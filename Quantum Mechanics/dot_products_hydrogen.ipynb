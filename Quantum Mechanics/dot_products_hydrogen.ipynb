{
 "cells": [
  {
   "cell_type": "markdown",
   "metadata": {},
   "source": [
    "**MSc Computational Physics AUTH**<br>\n",
    "**Quantum Mechanics**<br>\n",
    "**Academic Year: 2024-2025**<br>\n",
    "**Semester 3**<br>\n",
    "**Implemented by: Ioannis Stergakis**<br>\n",
    "**AEM: 4439**<br>\n",
    "\n",
    "**Presentation date: 7/1/2025**\n",
    "\n",
    "# **PROJECT:** ***Calculating dot products of states in the hydrogen atom***<br>\n",
    "\n",
    "**Dot products to be calculated:**<br>\n",
    "*a) $<210|x|311>$<br>\n",
    "b) $<211|x|310>$<br>\n",
    "c) $<210|y|311>$<br>\n",
    "d) $<211|y|310>$*\n",
    "\n",
    "**Contents:**<br>\n",
    "*->1. Defining and displaying the requested states in hydrogeneous atoms<br>\n",
    "->2. Calculating the requested dot products*"
   ]
  },
  {
   "cell_type": "markdown",
   "metadata": {},
   "source": [
    "## 1. Defining and displaying the requested states in hydrogeneous atoms"
   ]
  },
  {
   "cell_type": "markdown",
   "metadata": {},
   "source": [
    "### **1.1 Preliminaries**"
   ]
  },
  {
   "cell_type": "code",
   "execution_count": 1,
   "metadata": {},
   "outputs": [],
   "source": [
    "import numpy as np\n",
    "import sympy as smp\n",
    "from scipy.integrate import quad,dblquad,tplquad\n",
    "from scipy.special import sph_harm,genlaguerre\n",
    "import math"
   ]
  },
  {
   "cell_type": "code",
   "execution_count": 2,
   "metadata": {},
   "outputs": [],
   "source": [
    "# Useful symbols definition\n",
    "r,theta,phi,Zeta,alpha0 = smp.symbols(\"r,θ,φ,Z,α_0\",real=True)\n",
    "i = smp.symbols(\"i\")\n",
    "i_star = smp.conjugate(i)\n",
    "\n",
    "# Useful constants definition\n",
    "a_0 = 0.0529 # Bohr radius in nm\n",
    "\n",
    "# Useful functions definition\n",
    "def x(r,θ,φ): # x-axis coordinate in spherical coordinates\n",
    "    return r*np.sin(θ)*np.cos(φ)\n",
    "\n",
    "def y(r,θ,φ): # x-axis coordinate in spherical coordinates\n",
    "    return r*np.sin(θ)*np.sin(φ)"
   ]
  },
  {
   "cell_type": "markdown",
   "metadata": {},
   "source": [
    "### **1.2 Defining the radial part $R_{nl}(r)$ of the hydrogeneous states $u_{nlm}(r,θ,φ)$**\n",
    "\n",
    "The formula of $R_{nl}(r)$ for hydrogeneous atoms is:\n",
    "$$R_{nl}(r)=N_{nl}\\left(\\frac{2Z}{na_0}r\\right)^l L^{2l+1}_{n-l-1}(\\frac{2Z}{na_0}r)e^{-\\frac{Zr}{na_0}}\\space\\space[1.1]$$\n",
    "where $Z$ is the atomic number and $N_{nl}$ is the **normalization factor**:\n",
    "$$N_{nl}=\\left[\\left(\\frac{2Z}{na_0}\\right)^3\\frac{(n-l-1)!}{2n(n+l)!}\\right]^{1/2}\\space\\space[1.2]$$\n",
    "obtained from the integral:\n",
    "$$\\int^{\\infty}_0 R^{2}_{nl}(r)r^2 dr=1,$$\n",
    "the $L^{ν}_k(ξ)$ is the generalized associated **Laguerre** polynomial:\n",
    "$$L^{ν}_k(ξ)=\\frac{1}{k!}ξ^{-ν}e^ξ\\frac{d^k}{dξ^k}(e^{-ξ}ξ^{k+ν})\\space\\space[1.3]$$\n",
    "and $a_0$ is the **Bohr** radius:\n",
    "$$a_0=\\frac{\\hbar^2}{μe^2}$$\n",
    "or\n",
    "$$a_0=0.0529 nm$$\n",
    "\n",
    "First, we define the normalization factor $N_{nl}$ as a function of the quantum numbers $n$ and $l$ and the atomic number $Z$. This is shown below:"
   ]
  },
  {
   "cell_type": "code",
   "execution_count": 3,
   "metadata": {},
   "outputs": [],
   "source": [
    "# Numerical definition of the normalization factor\n",
    "def N_nl(n,l,Z):\n",
    "    return smp.sqrt((2*Z/(n*a_0))**3*math.factorial(n-l-1)/(2*n*math.factorial(n+l)))\n",
    "\n",
    "# Symbolic definition of the normalization factor\n",
    "def N_nl_sym(n,l,Z):\n",
    "    return smp.sqrt((2*Z/(n*alpha0))**3*math.factorial(n-l-1)/(2*n*math.factorial(n+l)))"
   ]
  },
  {
   "cell_type": "markdown",
   "metadata": {},
   "source": [
    "Next, we define generalized associated **Laguerre** polynomial. We start with the symbolic definition. From the equations $[1.1]$ and $[1.3]$, we obtain the following relations for the indices $\\nu$ and $l$:\n",
    "$$\\nu=2l+1\\space\\space[1.4]$$ \n",
    "and \n",
    "$$k=n-l-1\\space\\space[1.5]$$\n",
    "\n",
    "In our study, we have either the combination of $n=2$ and $l=1$ or the combination $n=3$ and $l=1$. That is, we have the combination:\n",
    "$$\\nu=3,k=0$$\n",
    "or the combination:\n",
    "$$\\nu=3,k=1$$\n",
    "for the indices $\\nu$ and $k$, respectively. For the first case ($\\nu=3,k=0$) the **Laguerre** polynomial becomes, according to $[1.3]$:\n",
    "$$L^{ν}_k(ξ)=L^{3}_0(ξ)=\\frac{1}{0!}ξ^{-3}e^ξ\\frac{d^0}{dξ^0}(e^{-ξ}ξ^{0+3})$$\n",
    "$$L^{3}_0(ξ)=ξ^{-3}e^ξ*(e^{-ξ}ξ^{3})$$\n",
    "$$L^{3}_0(ξ)=1\\space\\space[1.6]$$\n",
    "For the second case ($\\nu=3,k=1$) the **Laguerre** polynomial becomes:\n",
    "$$L^{ν}_k(ξ)=L^{3}_1(ξ)=\\frac{1}{1!}ξ^{-3}e^ξ\\frac{d}{dξ}(e^{-ξ}ξ^{1+3})$$\n",
    "$$L^{3}_1(ξ)=ξ^{-3}e^ξ\\frac{d}{dξ}(e^{-ξ}ξ^{4})$$\n",
    "$$L^{3}_1(ξ)=ξ^{-3}e^ξ*(-e^{-ξ}ξ^{4}+4*e^{-ξ}ξ^{3})$$\n",
    "$$L^{3}_1(ξ)=4-ξ\\space\\space[1.7]$$\n",
    "\n",
    "The symbolic definition is shown below:"
   ]
  },
  {
   "cell_type": "code",
   "execution_count": 4,
   "metadata": {},
   "outputs": [],
   "source": [
    "# Symbolic definition of the necessary generalized associated Laquerre polynomials\n",
    "\n",
    "# Polynomial for n=2 and l=1\n",
    "# or ν = 2l+1 = 3 and k = n-l-1 = 0\n",
    "def L_30_sym(ξ):\n",
    "    return 1\n",
    "\n",
    "# Polynomial for n=3 and l=1\n",
    "# or ν = 2l+1 = 3 and k = n-l-1 = 1\n",
    "def L_31_sym(ξ):\n",
    "    return 4-ξ\n",
    "\n",
    "# Storaging the Laquerre polynomials in a matrix\n",
    "def L_vk_list_sym(ξ):\n",
    "    result = []\n",
    "    result.append(L_30_sym(ξ))\n",
    "    result.append(L_31_sym(ξ))\n",
    "    return result"
   ]
  },
  {
   "cell_type": "markdown",
   "metadata": {},
   "source": [
    "As for the numerical definition of the **Laguerre** polynomial, we use the imported ***genlaguerre*** function of the ***scipy.special*** class, inside the numerical definition of the whole radial wave-function $R_{nl}(r)$:"
   ]
  },
  {
   "cell_type": "code",
   "execution_count": 5,
   "metadata": {},
   "outputs": [],
   "source": [
    "# Numerical definition of the radial part R_nl(r)\n",
    "def R_nl(r,n,l,Z):\n",
    "    return N_nl(n,l,Z)*(2*Z*r/(n*a_0))**l*genlaguerre(n-l-1,2*l+1)(2*Z*r/(n*a_0))*np.exp(-Z*r/(n*a_0))\n",
    "    \n",
    "\n",
    "# Symbolic definition of the radial part R_nl(r)\n",
    "def R_nl_sym(r,n,l,Z):\n",
    "    L_vk = L_vk_list_sym(2*Z*r/(n*alpha0))[n-2]\n",
    "    return N_nl_sym(n,l,Z)*(2*Z*r/(n*alpha0))**l*L_vk*smp.exp(-Z*r/(n*alpha0))"
   ]
  },
  {
   "cell_type": "code",
   "execution_count": 6,
   "metadata": {},
   "outputs": [
    {
     "name": "stdout",
     "output_type": "stream",
     "text": [
      "R_21(r,Z)\n"
     ]
    },
    {
     "data": {
      "text/latex": [
       "$\\displaystyle \\frac{\\sqrt{6} Z r \\sqrt{\\frac{Z^{3}}{α_{0}^{3}}} e^{- \\frac{Z r}{2 α_{0}}}}{12 α_{0}}$"
      ],
      "text/plain": [
       "sqrt(6)*Z*r*sqrt(Z**3/α_0**3)*exp(-Z*r/(2*α_0))/(12*α_0)"
      ]
     },
     "metadata": {},
     "output_type": "display_data"
    },
    {
     "name": "stdout",
     "output_type": "stream",
     "text": [
      "R_31(r,Z)\n"
     ]
    },
    {
     "data": {
      "text/latex": [
       "$\\displaystyle \\frac{\\sqrt{6} Z r \\sqrt{\\frac{Z^{3}}{α_{0}^{3}}} \\left(- \\frac{2 Z r}{3 α_{0}} + 4\\right) e^{- \\frac{Z r}{3 α_{0}}}}{81 α_{0}}$"
      ],
      "text/plain": [
       "sqrt(6)*Z*r*sqrt(Z**3/α_0**3)*(-2*Z*r/(3*α_0) + 4)*exp(-Z*r/(3*α_0))/(81*α_0)"
      ]
     },
     "metadata": {},
     "output_type": "display_data"
    }
   ],
   "source": [
    "# Symbolic definitions of the necessary radial functions\n",
    "\n",
    "# Definition of R_nl = R_21(r) radial function\n",
    "def R_21_sym(r,Z):\n",
    "    return R_nl_sym(r,2,1,Z)\n",
    "\n",
    "# Printing the formula of R_21(r)\n",
    "print(\"R_21(r,Z)\")\n",
    "display(R_21_sym(r,Zeta))\n",
    "\n",
    "# Definition of R_nl = R_31(r) radial function\n",
    "def R_31_sym(r,Z):\n",
    "    return R_nl_sym(r,3,1,Z)\n",
    "\n",
    "# Printing the formula of R_21(r)\n",
    "print(\"R_31(r,Z)\")\n",
    "display(R_31_sym(r,Zeta))"
   ]
  },
  {
   "cell_type": "code",
   "execution_count": 7,
   "metadata": {},
   "outputs": [],
   "source": [
    "# Numerical definitions of the necessary radial functions\n",
    "\n",
    "# Definition of R_nl = R_21(r) radial function\n",
    "def R_21(r,Z):\n",
    "    return R_nl(r,2,1,Z)\n",
    "\n",
    "# Definition of R_nl = R_31(r) radial function\n",
    "def R_31(r,Z):\n",
    "    return R_nl(r,3,1,Z)"
   ]
  },
  {
   "cell_type": "markdown",
   "metadata": {},
   "source": [
    "### **1.3 Defining the necessary spherical harmonics functions $Y^m_l(θ,φ)$**\n",
    "\n",
    "For our study, we need the spherical harmonic functions for $l=1$ and $m=0,1$. These are the following:\n",
    "$$Y^0_1=\\sqrt{\\frac{3}{4\\pi}}\\cos{\\theta}$$\n",
    "$$Y^1_1=-\\sqrt{\\frac{3}{8\\pi}}\\sin{\\theta}e^{i\\phi}$$\n",
    "\n",
    "Their symbolic definition comes first:"
   ]
  },
  {
   "cell_type": "code",
   "execution_count": 8,
   "metadata": {},
   "outputs": [],
   "source": [
    "# Symbolic definitions of the necessary spherical harmonics\n",
    "\n",
    "# Definition of the Y_lm = Y_10(θ,φ) spherical harmonic\n",
    "def Y_10_sym(θ,φ):\n",
    "    return smp.sqrt(3/(4*smp.pi))*smp.cos(θ)\n",
    "\n",
    "# Definition of the Y_lm = Y_11(θ,φ) spherical harmonic\n",
    "def Y_11_sym(θ,φ):\n",
    "    return -smp.sqrt(3/(8*smp.pi))*smp.sin(θ)*smp.exp(1j*φ)\n",
    "\n",
    "# Definition of the conjugate of Y_11\n",
    "def Y_10_star_sym(θ,φ):\n",
    "    result = smp.conjugate(Y_10_sym(θ,φ))\n",
    "    return result\n",
    "\n",
    "# Definition of the conjugate of Y_11\n",
    "def Y_11_star_sym(θ,φ):\n",
    "    result = smp.conjugate(Y_11_sym(θ,φ))\n",
    "    return result"
   ]
  },
  {
   "cell_type": "markdown",
   "metadata": {},
   "source": [
    "and is followed by their numerical definition, as shown below:"
   ]
  },
  {
   "cell_type": "code",
   "execution_count": 9,
   "metadata": {},
   "outputs": [],
   "source": [
    "# Numerical definitions of the necessary spherical harmonics\n",
    "\n",
    "# Definition of the Y_lm = Y_10(θ,φ) spherical harmonic\n",
    "def Y_10(θ,φ):\n",
    "    return sph_harm(0,1,φ,θ)\n",
    "\n",
    "# Definition of the Y_lm = Y_11(θ,φ) spherical harmonic\n",
    "def Y_11(θ,φ):\n",
    "    return sph_harm(1,1,φ,θ)"
   ]
  },
  {
   "cell_type": "markdown",
   "metadata": {},
   "source": [
    "See that we used the imported ***sph_harm*** function of the ***scipy.special*** class."
   ]
  },
  {
   "cell_type": "markdown",
   "metadata": {},
   "source": [
    "### **1.4 Showing the requested states of hydrogeneous atoms and their conjugates**"
   ]
  },
  {
   "cell_type": "markdown",
   "metadata": {},
   "source": [
    "Having defined all the separate components (radial and angular), we proceed with the definition and display of the states $u_{nlm}(r,θ,φ)$, as well as their respective conjugates, that take part in the requested dot products.\n",
    "\n",
    "First, we have the state **|210>**$=u_{210}(r,θ,φ,Ζ)=R_{21}(r,Ζ)*Y^0_1(θ,φ)$:"
   ]
  },
  {
   "cell_type": "code",
   "execution_count": 10,
   "metadata": {},
   "outputs": [
    {
     "name": "stdout",
     "output_type": "stream",
     "text": [
      "u_210(r,θ,φ,Z)\n"
     ]
    },
    {
     "data": {
      "text/latex": [
       "$\\displaystyle \\frac{\\sqrt{2} Z r \\sqrt{\\frac{Z^{3}}{α_{0}^{3}}} e^{- \\frac{Z r}{2 α_{0}}} \\cos{\\left(θ \\right)}}{8 \\sqrt{\\pi} α_{0}}$"
      ],
      "text/plain": [
       "sqrt(2)*Z*r*sqrt(Z**3/α_0**3)*exp(-Z*r/(2*α_0))*cos(θ)/(8*sqrt(pi)*α_0)"
      ]
     },
     "metadata": {},
     "output_type": "display_data"
    },
    {
     "name": "stdout",
     "output_type": "stream",
     "text": [
      "u_210(r,θ,φ,Z)*\n"
     ]
    },
    {
     "data": {
      "text/latex": [
       "$\\displaystyle \\frac{\\sqrt{2} Z r \\sqrt{\\frac{Z^{3}}{α_{0}^{3}}} e^{- \\frac{Z r}{2 α_{0}}} \\cos{\\left(θ \\right)}}{8 \\sqrt{\\pi} α_{0}}$"
      ],
      "text/plain": [
       "sqrt(2)*Z*r*sqrt(Z**3/α_0**3)*exp(-Z*r/(2*α_0))*cos(θ)/(8*sqrt(pi)*α_0)"
      ]
     },
     "metadata": {},
     "output_type": "display_data"
    }
   ],
   "source": [
    "# State u_210 = R_21*Y_10 of hydrogeneous atoms\n",
    "\n",
    "# Numerical definition\n",
    "def u_210(r,θ,φ,Z):\n",
    "    return R_21(r,Z)*Y_10(θ,φ)\n",
    "\n",
    "# Symbolic definitions\n",
    "def u_210_sym(r,θ,φ,Z):\n",
    "    return R_nl_sym(r,2,1,Z)*Y_10_sym(θ,φ)\n",
    "\n",
    "def u_210_star_sym(r,θ,φ,Z):\n",
    "    return R_nl_sym(r,2,1,Z)*Y_10_star_sym(θ,φ)\n",
    "\n",
    "# Printing formula of the state\n",
    "print(\"u_210(r,θ,φ,Z)\")\n",
    "display(u_210_sym(r,theta,phi,Zeta))\n",
    "\n",
    "# Printing formula of the state's conjugate\n",
    "print(\"u_210(r,θ,φ,Z)*\")\n",
    "display(u_210_star_sym(r,theta,phi,Zeta))"
   ]
  },
  {
   "cell_type": "markdown",
   "metadata": {},
   "source": [
    "Second, we have the state **|211>**$=u_{211}(r,θ,φ,Ζ)=R_{21}(r,Ζ)*Y^1_1(θ,φ)$:"
   ]
  },
  {
   "cell_type": "code",
   "execution_count": 11,
   "metadata": {},
   "outputs": [
    {
     "name": "stdout",
     "output_type": "stream",
     "text": [
      "u_211(r,θ,φ,Z)\n"
     ]
    },
    {
     "data": {
      "text/latex": [
       "$\\displaystyle - \\frac{Z r \\sqrt{\\frac{Z^{3}}{α_{0}^{3}}} e^{1.0 i φ} e^{- \\frac{Z r}{2 α_{0}}} \\sin{\\left(θ \\right)}}{8 \\sqrt{\\pi} α_{0}}$"
      ],
      "text/plain": [
       "-Z*r*sqrt(Z**3/α_0**3)*exp(1.0*I*φ)*exp(-Z*r/(2*α_0))*sin(θ)/(8*sqrt(pi)*α_0)"
      ]
     },
     "metadata": {},
     "output_type": "display_data"
    },
    {
     "name": "stdout",
     "output_type": "stream",
     "text": [
      "u_211(r,θ,φ,Z)*\n"
     ]
    },
    {
     "data": {
      "text/latex": [
       "$\\displaystyle - \\frac{Z r \\sqrt{\\frac{Z^{3}}{α_{0}^{3}}} e^{- 1.0 i φ} e^{- \\frac{Z r}{2 α_{0}}} \\sin{\\left(θ \\right)}}{8 \\sqrt{\\pi} α_{0}}$"
      ],
      "text/plain": [
       "-Z*r*sqrt(Z**3/α_0**3)*exp(-1.0*I*φ)*exp(-Z*r/(2*α_0))*sin(θ)/(8*sqrt(pi)*α_0)"
      ]
     },
     "metadata": {},
     "output_type": "display_data"
    }
   ],
   "source": [
    "# State u_211 = R_21*Y_11 of hydrogeneous atoms\n",
    "\n",
    "# Numerical definition\n",
    "def u_211(r,θ,φ,Z):\n",
    "    return R_21(r,Z)*Y_11(θ,φ)\n",
    "\n",
    "# Symbolic definitions\n",
    "def u_211_sym(r,θ,φ,Z):\n",
    "    return R_nl_sym(r,2,1,Z)*Y_11_sym(θ,φ)\n",
    "\n",
    "def u_211_star_sym(r,θ,φ,Z):\n",
    "    return R_nl_sym(r,2,1,Z)*Y_11_star_sym(θ,φ)\n",
    "\n",
    "# Printing formula of the state\n",
    "print(\"u_211(r,θ,φ,Z)\")\n",
    "display(u_211_sym(r,theta,phi,Zeta))\n",
    "\n",
    "# Printing formula of the state's conjugate\n",
    "print(\"u_211(r,θ,φ,Z)*\")\n",
    "display(u_211_star_sym(r,theta,phi,Zeta))"
   ]
  },
  {
   "cell_type": "markdown",
   "metadata": {},
   "source": [
    "Third, we have the state **|310>**$=u_{310}(r,θ,φ,Ζ)=R_{31}(r,Ζ)*Y^0_1(θ,φ)$:"
   ]
  },
  {
   "cell_type": "code",
   "execution_count": 12,
   "metadata": {},
   "outputs": [
    {
     "name": "stdout",
     "output_type": "stream",
     "text": [
      "u_310(r,θ,φ,Z)\n"
     ]
    },
    {
     "data": {
      "text/latex": [
       "$\\displaystyle \\frac{\\sqrt{2} Z r \\sqrt{\\frac{Z^{3}}{α_{0}^{3}}} \\left(- \\frac{2 Z r}{3 α_{0}} + 4\\right) e^{- \\frac{Z r}{3 α_{0}}} \\cos{\\left(θ \\right)}}{54 \\sqrt{\\pi} α_{0}}$"
      ],
      "text/plain": [
       "sqrt(2)*Z*r*sqrt(Z**3/α_0**3)*(-2*Z*r/(3*α_0) + 4)*exp(-Z*r/(3*α_0))*cos(θ)/(54*sqrt(pi)*α_0)"
      ]
     },
     "metadata": {},
     "output_type": "display_data"
    },
    {
     "name": "stdout",
     "output_type": "stream",
     "text": [
      "u_310(r,θ,φ,Z)*\n"
     ]
    },
    {
     "data": {
      "text/latex": [
       "$\\displaystyle \\frac{\\sqrt{2} Z r \\sqrt{\\frac{Z^{3}}{α_{0}^{3}}} \\left(- \\frac{2 Z r}{3 α_{0}} + 4\\right) e^{- \\frac{Z r}{3 α_{0}}} \\cos{\\left(θ \\right)}}{54 \\sqrt{\\pi} α_{0}}$"
      ],
      "text/plain": [
       "sqrt(2)*Z*r*sqrt(Z**3/α_0**3)*(-2*Z*r/(3*α_0) + 4)*exp(-Z*r/(3*α_0))*cos(θ)/(54*sqrt(pi)*α_0)"
      ]
     },
     "metadata": {},
     "output_type": "display_data"
    }
   ],
   "source": [
    "# State u_310 = R_31*Y_10 of hydrogeneous atoms\n",
    "\n",
    "# Numerical definition\n",
    "def u_310(r,θ,φ,Z):\n",
    "    return R_31(r,Z)*Y_10(θ,φ)\n",
    "\n",
    "# Symbolic definitions\n",
    "def u_310_sym(r,θ,φ,Z):\n",
    "    return R_nl_sym(r,3,1,Z)*Y_10_sym(θ,φ)\n",
    "\n",
    "def u_310_star_sym(r,θ,φ,Z):\n",
    "    return R_nl_sym(r,3,1,Z)*Y_10_star_sym(θ,φ)\n",
    "\n",
    "# Printing formula of the state\n",
    "print(\"u_310(r,θ,φ,Z)\")\n",
    "display(u_310_sym(r,theta,phi,Zeta))\n",
    "\n",
    "# Printing formula of the state's conjugate\n",
    "print(\"u_310(r,θ,φ,Z)*\")\n",
    "display(u_310_star_sym(r,theta,phi,Zeta))"
   ]
  },
  {
   "cell_type": "markdown",
   "metadata": {},
   "source": [
    "And at last, we have the state **|311>**$=u_{311}(r,θ,φ,Ζ)=R_{31}(r,Ζ)*Y^1_1(θ,φ)$:"
   ]
  },
  {
   "cell_type": "code",
   "execution_count": 13,
   "metadata": {},
   "outputs": [
    {
     "name": "stdout",
     "output_type": "stream",
     "text": [
      "u_311(r,θ,φ,Z)\n"
     ]
    },
    {
     "data": {
      "text/latex": [
       "$\\displaystyle - \\frac{Z r \\sqrt{\\frac{Z^{3}}{α_{0}^{3}}} \\left(- \\frac{2 Z r}{3 α_{0}} + 4\\right) e^{1.0 i φ} e^{- \\frac{Z r}{3 α_{0}}} \\sin{\\left(θ \\right)}}{54 \\sqrt{\\pi} α_{0}}$"
      ],
      "text/plain": [
       "-Z*r*sqrt(Z**3/α_0**3)*(-2*Z*r/(3*α_0) + 4)*exp(1.0*I*φ)*exp(-Z*r/(3*α_0))*sin(θ)/(54*sqrt(pi)*α_0)"
      ]
     },
     "metadata": {},
     "output_type": "display_data"
    },
    {
     "name": "stdout",
     "output_type": "stream",
     "text": [
      "u_311(r,θ,φ,Z)*\n"
     ]
    },
    {
     "data": {
      "text/latex": [
       "$\\displaystyle - \\frac{Z r \\sqrt{\\frac{Z^{3}}{α_{0}^{3}}} \\left(- \\frac{2 Z r}{3 α_{0}} + 4\\right) e^{- 1.0 i φ} e^{- \\frac{Z r}{3 α_{0}}} \\sin{\\left(θ \\right)}}{54 \\sqrt{\\pi} α_{0}}$"
      ],
      "text/plain": [
       "-Z*r*sqrt(Z**3/α_0**3)*(-2*Z*r/(3*α_0) + 4)*exp(-1.0*I*φ)*exp(-Z*r/(3*α_0))*sin(θ)/(54*sqrt(pi)*α_0)"
      ]
     },
     "metadata": {},
     "output_type": "display_data"
    }
   ],
   "source": [
    "# State u_311 = R_31*Y_11 of hydrogeneous atoms\n",
    "\n",
    "# Numerical definition\n",
    "def u_311(r,θ,φ,Z):\n",
    "    return R_31(r,Z)*Y_11(θ,φ)\n",
    "\n",
    "# Symbolic definitions\n",
    "def u_311_sym(r,θ,φ,Z):\n",
    "    return R_nl_sym(r,3,1,Z)*Y_11_sym(θ,φ)\n",
    "\n",
    "def u_311_star_sym(r,θ,φ,Z):\n",
    "    return R_nl_sym(r,3,1,Z)*Y_11_star_sym(θ,φ)\n",
    "\n",
    "# Printing formula of the state\n",
    "print(\"u_311(r,θ,φ,Z)\")\n",
    "display(u_311_sym(r,theta,phi,Zeta))\n",
    "\n",
    "# Printing formula of the state's conjugate\n",
    "print(\"u_311(r,θ,φ,Z)*\")\n",
    "display(u_311_star_sym(r,theta,phi,Zeta))"
   ]
  },
  {
   "cell_type": "markdown",
   "metadata": {},
   "source": [
    "## 2. Calculating the requested dot products"
   ]
  },
  {
   "cell_type": "markdown",
   "metadata": {},
   "source": [
    "**A. General form of the products in spherical coordinates**<br>\n",
    "Let's discuss now, the methodology for the calculation of the requested dot products. The general form of these products is:\n",
    "$$I=<nlm|\\hat{A}|n'l'm'>$$\n",
    "or in integration form\n",
    "$$I=\\int_V u^*_{nlm}(r,θ,φ,Z)\\hat{A}u_{n'l'm'}(r,θ,φ,Z)dV\\space\\space[2.1]$$\n",
    "where $\\hat{A}$ is an operator (in our case $\\hat{A}=\\hat{x}$ or $\\hat{A}=\\hat{y}$) and $V$ is the **3D** Εuclidean integration space.\n",
    "Using spherical coordinates, the differential of this space becomes:\n",
    "$$dV=r^2\\sinθdθdφdr$$\n",
    "where $r$ is the radius, $\\theta$ is the polar angle and $\\phi$ is the azimuthal angle. Therefore, the integral of $[2.1]$, is basically a triple integral:\n",
    "$$I=\\int^{\\infty}_{r=0}\\int^{2\\pi}_{\\phi=0}\\int^{\\pi}_{\\theta=0}u^*_{nlm}(r,θ,φ,Z)\\hat{A}u_{n'l'm'}(r,θ,φ,Z)r^2\\sinθdθdφdr\\space\\space[2.2]$$"
   ]
  },
  {
   "cell_type": "markdown",
   "metadata": {},
   "source": [
    "**B. Separating the radial and angular parts of the triple integral**<br>\n",
    "To address the triple integration of $[2.2]$, we write the states $u^*_{nlm}$ and $u_{n'l'm'}$ as products of their radial and angular components: \n",
    "$$u^*_{nlm}(r,\\theta,\\phi,Z)=[R_{nl}(r,Z)Y^m_l(\\theta,\\phi)]^*=Y^m_l(\\theta,\\phi)^*R_{nl}(r,Z)^*\\space\\space [2.3]$$\n",
    "and\n",
    "$$u_{n'l'm'}(r,\\theta,\\phi,Z)=R_{n'l'}(r,Z)Y^{m'}_{l'}(\\theta,\\phi)\\space\\space [2.4]$$\n",
    "As for the operators $\\hat{x}$ and $\\hat{y}$, we have:\n",
    "$$\\hat{x}=x=r\\sin\\theta\\cos\\phi \\space\\space [2.5]$$\n",
    "and\n",
    "$$\\hat{y}=y=r\\sin\\theta\\sin\\phi \\space\\space [2.6]$$\n",
    "By replacing, the equations $[2.3]$ and $[2.4]$ to equation $[2.2]$, we get:\n",
    "$$I=\\int^{\\infty}_{r=0}\\int^{2\\pi}_{\\phi=0}\\int^{\\pi}_{\\theta=0}Y^m_l(\\theta,\\phi)^*R_{nl}(r,Z)^*\\hat{A}R_{n'l'}(r,Z)Y^{m'}_{l'}(\\theta,\\phi)r^2\\sinθdθdφdr \\space\\space[2.7]$$\n",
    "and if we set $\\hat{A}=\\hat{x}$ from $[2.5]$ in $[2.7]$, we get:\n",
    "$$I(\\hat{A}=\\hat{x})=I_x=\\int^{\\infty}_{r=0}\\int^{2\\pi}_{\\phi=0}\\int^{\\pi}_{\\theta=0}Y^m_l(\\theta,\\phi)^*R_{nl}(r,Z)^*r\\sinθ\\cosφ R_{n'l'}(r,Z)Y^{m'}_{l'}(\\theta,\\phi)r^2\\sinθdθdφdr \\space\\space[2.8]$$\n",
    "Now, we can separate the radial and the angular parts in the integral of $[2.8]$ and get:\n",
    "$$I_x=\\int^{\\infty}_{r=0}R_{nl}(r,Z)^*R_{n'l'}(r,Z)r^3dr*\\int^{2\\pi}_{\\phi=0}\\int^{\\pi}_{\\theta=0}Y^m_l(\\theta,\\phi)^*Y^{m'}_{l'}(\\theta,\\phi)\\sin^2θ\\cosφdθdφ$$\n",
    "or\n",
    "$$I_x=I_{Radial_x}*I_{Angular_x}$$\n",
    "where $I_{Radial_x}$ is the radial integral:\n",
    "$$I_{Radial_x}=\\int^{\\infty}_{r=0}R_{nl}(r,Z)^*R_{n'l'}(r,Z)r^3dr \\space\\space [2.9]$$\n",
    "and $I_{Angular_x}$ is the angular integral:\n",
    "$$I_{Angular_x}=\\int^{2\\pi}_{\\phi=0}\\int^{\\pi}_{\\theta=0}Y^m_l(\\theta,\\phi)^*Y^{m'}_{l'}(\\theta,\\phi)\\sin^2θ\\cosφdθdφ \\space\\space [2.10]$$\n",
    "\n",
    "In the same way, if we replace $\\hat{A}=\\hat{y}$ from $[2.6]$ in $[2.7]$ and separate the radial and angular parts, we result in the following radial integral $I_{Radial_y}$:\n",
    "$$I_{Radial_y}=\\int^{\\infty}_{r=0}R_{nl}(r,Z)^*R_{n'l'}(r,Z)r^3dr \\space\\space [2.11]$$\n",
    "and the following angular integral $I_{Angular_y}$:\n",
    "$$I_{Angular_y}=\\int^{2\\pi}_{\\phi=0}\\int^{\\pi}_{\\theta=0}Y^m_l(\\theta,\\phi)^*Y^{m'}_{l'}(\\theta,\\phi)\\sin^2θ\\sinφdθdφ \\space\\space [2.12]$$\n",
    "\n",
    "As we can see, the contribution of the two operators $\\hat{x}$ and $\\hat{y}$ differs only in the angular integral."
   ]
  },
  {
   "cell_type": "markdown",
   "metadata": {},
   "source": [
    "**C. Calculating the radial and the angular integrals**<br>\n",
    "Since complex numbers are involved in the integration process and the integration is over real numbers ($r,θ,φ$), we can define the integrand function $f$ of the integrals $[2.9]$,$[2.10]$,$[2.11]$ and $[2.12]$ above, as:\n",
    "$$f=f_{Real}+i*f_{Imaginary}$$\n",
    "which results in the following form for the respective integral:\n",
    "$$I=\\int_{S}fdS=\\int_{S}(f_{Real}+i*f_{Imaginary})dS=I^{Real}+i*I^{Imaginary}$$\n",
    "where:\n",
    "$$I^{Real}=\\int_{S}f_{Real}dS$$\n",
    "and\n",
    "$$I^{Imaginary}=\\int_{S}f_{Imaginary}dS$$\n",
    "and $S$ is the integration space.\n",
    "\n",
    "Thus, for the total triple integral $I_x$ we have:\n",
    "$$I_x=I_{Radial_x}*I_{Angular_x}=[I^{Real}_{Radial_x}+i*I^{Imaginary}_{Radial_x}]*[I^{Real}_{Angular_x}+i*I^{Imaginary}_{Angular_x}]$$\n",
    "while for the total triple integral $I_y$ we have:\n",
    "$$I_y=I_{Radial_y}*I_{Angular_y}=[I^{Real}_{Radial_y}+i*I^{Imaginary}_{Radial_y}]*[I^{Real}_{Angular_y}+i*I^{Imaginary}_{Angular_y}]$$\n",
    "\n",
    "This method is implemented below for the calculation of the requested dot products, setting $Z=1$ for the hydrogen atom."
   ]
  },
  {
   "cell_type": "markdown",
   "metadata": {},
   "source": [
    "### **2.1 Dot product $<210|x|311>$**"
   ]
  },
  {
   "cell_type": "code",
   "execution_count": 14,
   "metadata": {},
   "outputs": [
    {
     "name": "stdout",
     "output_type": "stream",
     "text": [
      "> Calculating the dot product:\n",
      "<210|x|311>\n",
      "\n",
      "> SEPARATE CALCULATION OF THE RADIAL AND ANGULAR PART\n",
      "-----------------------------------------------------\n",
      ">> Radial part's integral I_Rad:\n",
      "(-0.09360506880000004+0j)\n",
      "\n",
      ">> Angular part's integral I_Ang:\n",
      "(-3.067787304177841e-17-4.509068613625614e-19j)\n",
      "\n",
      ">> Dot Product Result I_Rad*I_Ang:\n",
      "(2.8716044167133347e-18+4.2207167780234635e-20j)\n",
      "-----------------------------------------------------\n"
     ]
    }
   ],
   "source": [
    "# Dot product <210|x|311>\n",
    "\n",
    "# x = r*sinθ*cosφ\n",
    "# r: included in radial part's integral\n",
    "# sinθ*cosφ: included in angular part's integral\n",
    "\n",
    "print(\"> Calculating the dot product:\")\n",
    "print(\"<210|x|311>\\n\")\n",
    "\n",
    "# Separate calculate the radial and angular integrals\n",
    "print(\"> SEPARATE CALCULATION OF THE RADIAL AND ANGULAR PART\")\n",
    "print(\"-----------------------------------------------------\")\n",
    "\n",
    "# Radial part's integral\n",
    "def f_R(r):\n",
    "    return np.conj(R_21(r,1))*R_31(r,1)*r**3\n",
    "I_R_real = quad(lambda r: np.real(f_R(r)),0,np.Infinity)[0]\n",
    "I_R_imag = quad(lambda r: np.imag(f_R(r)),0,np.Infinity)[0]\n",
    "I_R = I_R_real + 1j*I_R_imag\n",
    "print(\">> Radial part's integral I_Rad:\")\n",
    "print(I_R)\n",
    "\n",
    "# Angular part's integral\n",
    "def f_Ang(θ,φ):\n",
    "    return np.conj(Y_10(θ,φ))*Y_11(θ,φ)*np.sin(θ)**2*np.cos(φ)\n",
    "I_Ang_real = dblquad(lambda θ,φ: np.real(f_Ang(θ,φ)),0,2*np.pi,0,np.pi)[0]\n",
    "I_Ang_imag = dblquad(lambda θ,φ: np.imag(f_Ang(θ,φ)),0,2*np.pi,0,np.pi)[0]\n",
    "I_Ang = I_Ang_real + 1j*I_Ang_imag\n",
    "print(\"\\n>> Angular part's integral I_Ang:\")\n",
    "print(I_Ang)\n",
    "\n",
    "result = I_R*I_Ang\n",
    "print(\"\\n>> Dot Product Result I_Rad*I_Ang:\")\n",
    "print(result)\n",
    "print(\"-----------------------------------------------------\")"
   ]
  },
  {
   "cell_type": "markdown",
   "metadata": {},
   "source": [
    "### **2.2 Dot product $<211|x|310>$**"
   ]
  },
  {
   "cell_type": "code",
   "execution_count": 15,
   "metadata": {},
   "outputs": [
    {
     "name": "stdout",
     "output_type": "stream",
     "text": [
      "> Calculating the dot product:\n",
      "<211|x|310>\n",
      "\n",
      "> SEPARATE CALCULATION OF THE RADIAL AND ANGULAR PART\n",
      "-----------------------------------------------------\n",
      ">> Radial part's integral I_Rad:\n",
      "(-0.09360506880000004+0j)\n",
      "\n",
      ">> Angular part's integral I_Ang:\n",
      "(-3.067787304177841e-17+4.509068613625614e-19j)\n",
      "\n",
      ">> Dot Product Result I_Rad*I_Ang:\n",
      "(2.8716044167133347e-18-4.2207167780234635e-20j)\n",
      "-----------------------------------------------------\n"
     ]
    }
   ],
   "source": [
    "# Dot product <211|x|310>\n",
    "\n",
    "# x = r*sinθ*cosφ\n",
    "# r: included in radial part's integral\n",
    "# sinθ*cosφ: included in angular part's integral\n",
    "\n",
    "print(\"> Calculating the dot product:\")\n",
    "print(\"<211|x|310>\\n\")\n",
    "\n",
    "# Separate calculate the radial and angular integrals\n",
    "print(\"> SEPARATE CALCULATION OF THE RADIAL AND ANGULAR PART\")\n",
    "print(\"-----------------------------------------------------\")\n",
    "\n",
    "# Radial part's integral\n",
    "def f_R(r):\n",
    "    return np.conj(R_21(r,1))*R_31(r,1)*r**3\n",
    "I_R_real = quad(lambda r: np.real(f_R(r)),0,np.Infinity)[0]\n",
    "I_R_imag = quad(lambda r: np.imag(f_R(r)),0,np.Infinity)[0]\n",
    "I_R = I_R_real + 1j*I_R_imag\n",
    "print(\">> Radial part's integral I_Rad:\")\n",
    "print(I_R)\n",
    "\n",
    "# Angular part's integral\n",
    "def f_Ang(θ,φ):\n",
    "    return np.conj(Y_11(θ,φ))*Y_10(θ,φ)*np.sin(θ)**2*np.cos(φ)\n",
    "I_Ang_real = dblquad(lambda θ,φ: np.real(f_Ang(θ,φ)),0,2*np.pi,0,np.pi)[0]\n",
    "I_Ang_imag = dblquad(lambda θ,φ: np.imag(f_Ang(θ,φ)),0,2*np.pi,0,np.pi)[0]\n",
    "I_Ang = I_Ang_real + 1j*I_Ang_imag\n",
    "print(\"\\n>> Angular part's integral I_Ang:\")\n",
    "print(I_Ang)\n",
    "\n",
    "result = I_R*I_Ang\n",
    "print(\"\\n>> Dot Product Result I_Rad*I_Ang:\")\n",
    "print(result)\n",
    "print(\"-----------------------------------------------------\")"
   ]
  },
  {
   "cell_type": "markdown",
   "metadata": {},
   "source": [
    "### **2.3 Dot product $<210|y|311>$**"
   ]
  },
  {
   "cell_type": "code",
   "execution_count": 16,
   "metadata": {},
   "outputs": [
    {
     "name": "stdout",
     "output_type": "stream",
     "text": [
      "> Calculating the dot product:\n",
      "<210|y|311>\n",
      "\n",
      "> SEPARATE CALCULATION OF THE RADIAL AND ANGULAR PART\n",
      "-----------------------------------------------------\n",
      ">> Radial part's integral I_Rad:\n",
      "(-0.09360506880000004+0j)\n",
      "\n",
      ">> Angular part's integral I_Ang:\n",
      "(-8.069487063086716e-19-2.936095568006275e-17j)\n",
      "\n",
      ">> Dot Product Result I_Rad*I_Ang:\n",
      "(7.553448917209423e-20+2.7483342764660254e-18j)\n",
      "-----------------------------------------------------\n"
     ]
    }
   ],
   "source": [
    "# Dot product <210|y|311>\n",
    "\n",
    "# y = r*sinθ*sinφ\n",
    "# r: included in radial part's integral\n",
    "# sinθ*sinφ: included in angular part's integral\n",
    "\n",
    "print(\"> Calculating the dot product:\")\n",
    "print(\"<210|y|311>\\n\")\n",
    "\n",
    "# Separate calculate the radial and angular integrals\n",
    "print(\"> SEPARATE CALCULATION OF THE RADIAL AND ANGULAR PART\")\n",
    "print(\"-----------------------------------------------------\")\n",
    "\n",
    "# Radial part's integral\n",
    "def f_R(r):\n",
    "    return np.conj(R_21(r,1))*R_31(r,1)*r**3\n",
    "I_R_real = quad(lambda r: np.real(f_R(r)),0,np.Infinity)[0]\n",
    "I_R_imag = quad(lambda r: np.imag(f_R(r)),0,np.Infinity)[0]\n",
    "I_R = I_R_real + 1j*I_R_imag\n",
    "print(\">> Radial part's integral I_Rad:\")\n",
    "print(I_R)\n",
    "\n",
    "# Angular part's integral\n",
    "def f_Ang(θ,φ):\n",
    "    return np.conj(Y_10(θ,φ))*Y_11(θ,φ)*np.sin(θ)**2*np.sin(φ)\n",
    "I_Ang_real = dblquad(lambda θ,φ: np.real(f_Ang(θ,φ)),0,2*np.pi,0,np.pi)[0]\n",
    "I_Ang_imag = dblquad(lambda θ,φ: np.imag(f_Ang(θ,φ)),0,2*np.pi,0,np.pi)[0]\n",
    "I_Ang = I_Ang_real + 1j*I_Ang_imag\n",
    "print(\"\\n>> Angular part's integral I_Ang:\")\n",
    "print(I_Ang)\n",
    "\n",
    "result = I_R*I_Ang\n",
    "print(\"\\n>> Dot Product Result I_Rad*I_Ang:\")\n",
    "print(result)\n",
    "print(\"-----------------------------------------------------\")"
   ]
  },
  {
   "cell_type": "markdown",
   "metadata": {},
   "source": [
    "### **2.4 Dot product $<211|y|310>$**"
   ]
  },
  {
   "cell_type": "code",
   "execution_count": 17,
   "metadata": {},
   "outputs": [
    {
     "name": "stdout",
     "output_type": "stream",
     "text": [
      "> Calculating the dot product:\n",
      "<211|y|310>\n",
      "\n",
      "> SEPARATE CALCULATION OF THE RADIAL AND ANGULAR PART\n",
      "-----------------------------------------------------\n",
      ">> Radial part's integral I_Rad:\n",
      "(-0.09360506880000004+0j)\n",
      "\n",
      ">> Angular part's integral I_Ang:\n",
      "(-8.069487063086716e-19+2.936095568006275e-17j)\n",
      "\n",
      ">> Dot Product Result I_Rad*I_Ang:\n",
      "(7.553448917209423e-20-2.7483342764660254e-18j)\n",
      "-----------------------------------------------------\n"
     ]
    }
   ],
   "source": [
    "# Dot product <211|y|310>\n",
    "\n",
    "# y = r*sinθ*sinφ\n",
    "# r: included in radial part's integral\n",
    "# sinθ*sinφ: included in angular part's integral\n",
    "\n",
    "print(\"> Calculating the dot product:\")\n",
    "print(\"<211|y|310>\\n\")\n",
    "\n",
    "# Separate calculate the radial and angular integrals\n",
    "print(\"> SEPARATE CALCULATION OF THE RADIAL AND ANGULAR PART\")\n",
    "print(\"-----------------------------------------------------\")\n",
    "\n",
    "# Radial part's integral\n",
    "def f_R(r):\n",
    "    return np.conj(R_21(r,1))*R_31(r,1)*r**3\n",
    "I_R_real = quad(lambda r: np.real(f_R(r)),0,np.Infinity)[0]\n",
    "I_R_imag = quad(lambda r: np.imag(f_R(r)),0,np.Infinity)[0]\n",
    "I_R = I_R_real + 1j*I_R_imag\n",
    "print(\">> Radial part's integral I_Rad:\")\n",
    "print(I_R)\n",
    "\n",
    "# Angular part's integral\n",
    "def f_Ang(θ,φ):\n",
    "    return np.conj(Y_11(θ,φ))*Y_10(θ,φ)*np.sin(θ)**2*np.sin(φ)\n",
    "I_Ang_real = dblquad(lambda θ,φ: np.real(f_Ang(θ,φ)),0,2*np.pi,0,np.pi)[0]\n",
    "I_Ang_imag = dblquad(lambda θ,φ: np.imag(f_Ang(θ,φ)),0,2*np.pi,0,np.pi)[0]\n",
    "I_Ang = I_Ang_real + 1j*I_Ang_imag\n",
    "print(\"\\n>> Angular part's integral I_Ang:\")\n",
    "print(I_Ang)\n",
    "\n",
    "result = I_R*I_Ang\n",
    "print(\"\\n>> Dot Product Result I_Rad*I_Ang:\")\n",
    "print(result)\n",
    "print(\"-----------------------------------------------------\")"
   ]
  },
  {
   "cell_type": "code",
   "execution_count": null,
   "metadata": {},
   "outputs": [],
   "source": []
  }
 ],
 "metadata": {
  "kernelspec": {
   "display_name": "Python 3",
   "language": "python",
   "name": "python3"
  },
  "language_info": {
   "codemirror_mode": {
    "name": "ipython",
    "version": 3
   },
   "file_extension": ".py",
   "mimetype": "text/x-python",
   "name": "python",
   "nbconvert_exporter": "python",
   "pygments_lexer": "ipython3",
   "version": "3.11.6"
  }
 },
 "nbformat": 4,
 "nbformat_minor": 2
}
