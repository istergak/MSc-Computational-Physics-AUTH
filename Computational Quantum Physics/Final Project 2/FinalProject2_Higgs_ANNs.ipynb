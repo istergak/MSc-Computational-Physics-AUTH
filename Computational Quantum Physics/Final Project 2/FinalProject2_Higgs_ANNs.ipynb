{
 "cells": [
  {
   "cell_type": "markdown",
   "metadata": {},
   "source": [
    "**MSc Computational Physics AUTH**<br>\n",
    "**Computational Quantum Physics**<br>\n",
    "**Academic Year: 2023-2024**<br>\n",
    "**Semester 2**<br>\n",
    "**Implemented by: Ioannis Stergakis**<br>\n",
    "**AEM: 4439**<br>\n",
    "\n",
    "# **FINAL PROJECT 2:**<br>\n",
    "# ***Part2: Applying artificial neural networks (TensorFlow) classification models in hypersymmetric Higgs bosons detection***\n",
    "\n",
    "**Jupyter Notebook 2**<br> \n",
    "\n",
    "**Contents:**<br>\n",
    "*->1. Data importing and preprocessing*<br>\n",
    "*->2. TensorFlow classification algorithm*<br>"
   ]
  },
  {
   "cell_type": "markdown",
   "metadata": {},
   "source": [
    "## **1. Data Importing and Preprocessing**"
   ]
  },
  {
   "cell_type": "code",
   "execution_count": 1,
   "metadata": {},
   "outputs": [],
   "source": [
    "# Numpy module import\n",
    "import numpy as np\n",
    "\n",
    "# Module for data importation and presentaion\n",
    "import pandas as pd\n",
    "from pandas import DataFrame\n",
    "\n",
    "# Module for detecting and imputing missing data\n",
    "import missingno as msno\n",
    "\n",
    "# ML package for splitting the dataframe into train and test set\n",
    "from sklearn.model_selection import train_test_split\n",
    "\n",
    "# ML package for data scalling\n",
    "from sklearn.preprocessing import StandardScaler"
   ]
  },
  {
   "cell_type": "markdown",
   "metadata": {},
   "source": [
    "### **1.1 Data importation, imputation and presentation**"
   ]
  },
  {
   "cell_type": "markdown",
   "metadata": {},
   "source": [
    "#### **A. Importation**"
   ]
  },
  {
   "cell_type": "code",
   "execution_count": null,
   "metadata": {},
   "outputs": [],
   "source": [
    "# Importing the Higgs detection data\n",
    "df_Higgs=pd.read_csv(\"HIGGS_8K.csv\",header=None)\n",
    "\n",
    "# Showing the data\n",
    "df_Higgs\n"
   ]
  },
  {
   "cell_type": "markdown",
   "metadata": {},
   "source": [
    "#### **B. Imputation**"
   ]
  },
  {
   "cell_type": "code",
   "execution_count": null,
   "metadata": {},
   "outputs": [],
   "source": [
    "# Showing the 18th column's (or 17th column in Python enumeration) first element\n",
    "# this element (as all elements of this column are in str type) and can not be converted to float\n",
    "df_Higgs[17][0]"
   ]
  },
  {
   "cell_type": "code",
   "execution_count": null,
   "metadata": {},
   "outputs": [],
   "source": [
    "# To avoid errors in future caclulations we replace this element's value with 0\n",
    "df_Higgs[17][0] = 0\n",
    "\n",
    "# Then we cast all elements of 17th column to float type\n",
    "n = len(df_Higgs[17])\n",
    "for i in range(0,n):\n",
    "    df_Higgs[17][i] = float(df_Higgs[17][i])  "
   ]
  },
  {
   "cell_type": "code",
   "execution_count": null,
   "metadata": {},
   "outputs": [],
   "source": [
    "# Visualizing the missing data\n",
    "msno.bar(df_Higgs)"
   ]
  },
  {
   "cell_type": "code",
   "execution_count": null,
   "metadata": {},
   "outputs": [],
   "source": [
    "# Applying mean imputation\n",
    "df_Higgs_imputed = df_Higgs.fillna(df_Higgs.mean())\n",
    "\n",
    "# Confirming the imputation\n",
    "msno.bar(df_Higgs_imputed)"
   ]
  },
  {
   "cell_type": "markdown",
   "metadata": {},
   "source": [
    "#### **C. Presentation**"
   ]
  },
  {
   "cell_type": "code",
   "execution_count": 71,
   "metadata": {},
   "outputs": [],
   "source": [
    "# Getting the first column and all rows (class column)\n",
    "Higgs_class = df_Higgs_imputed.iloc[:,0]\n",
    "# Getting the rest column and all rows (all explanatory variables columns)\n",
    "Higgs = df_Higgs_imputed.iloc[:,1:]\n",
    "# Getting the columns 2 to 22 (or 1 to 21 in Python enumeration) and all rows (low level quantities columns)\n",
    "Higgs_low = df_Higgs_imputed.iloc[:,1:22]\n",
    "# Getting the column's 23 to 29 (or 22 to 28 in Python enumeration) and all rows (high level quantities columns)\n",
    "Higgs_high = df_Higgs_imputed.iloc[:,22:]"
   ]
  },
  {
   "cell_type": "code",
   "execution_count": null,
   "metadata": {},
   "outputs": [],
   "source": [
    "# Showing the head of all explanatory variables (low and high level quantities) data\n",
    "Higgs.head()"
   ]
  },
  {
   "cell_type": "code",
   "execution_count": null,
   "metadata": {},
   "outputs": [],
   "source": [
    "# Showing the head of low level quantities data\n",
    "Higgs_low.head()"
   ]
  },
  {
   "cell_type": "code",
   "execution_count": null,
   "metadata": {},
   "outputs": [],
   "source": [
    "# Showing the head of high level quantities data\n",
    "Higgs_high.head()"
   ]
  },
  {
   "cell_type": "code",
   "execution_count": null,
   "metadata": {},
   "outputs": [],
   "source": [
    "# Showing the head of class data\n",
    "Higgs_class.head()"
   ]
  },
  {
   "cell_type": "markdown",
   "metadata": {},
   "source": [
    "### **1.2 Data splitting into train and test sets**"
   ]
  },
  {
   "cell_type": "code",
   "execution_count": 13,
   "metadata": {},
   "outputs": [],
   "source": [
    "# Splitting the data into test and training sets\n",
    "# test_size = 0.25, the percentage of the test size to the complete dataset (here we choose 25%)\n",
    "# random_state is the seed. A specific pseudorandom number to split the data set\n",
    "# in order to produce same splitting every time we run the script.\n",
    "\n",
    "# Splitting the all explanatory quantities data set\n",
    "Higgs_train, Higgs_test, Higgs_class_train, Higgs_class_test = train_test_split(Higgs, Higgs_class, test_size = 0.25, random_state = 50)\n",
    "\n",
    "# Splitting the low level quantities data set\n",
    "Higgs_low_train, Higgs_low_test, Higgs_low_class_train, Higgs_low_class_test = train_test_split(Higgs_low, Higgs_class, test_size = 0.25, random_state = 50)\n",
    "\n",
    "# Splitting the high level quantities data set\n",
    "Higgs_high_train, Higgs_high_test, Higgs_high_class_train, Higgs_high_class_test = train_test_split(Higgs_high, Higgs_class, test_size = 0.25, random_state = 50)"
   ]
  },
  {
   "cell_type": "markdown",
   "metadata": {},
   "source": [
    "### **1.3 Feature Scaling**"
   ]
  },
  {
   "cell_type": "code",
   "execution_count": 14,
   "metadata": {},
   "outputs": [],
   "source": [
    "# Definition of scaler\n",
    "scaler = StandardScaler()\n",
    "\n",
    "# Applying feature scalling on all explanatory quantities train and test sets\n",
    "Higgs_train_scaled = scaler.fit_transform(Higgs_train)\n",
    "Higgs_test_scaled =scaler.transform(Higgs_test)\n",
    "\n",
    "# Applying feature scalling on low level quantities train and test sets\n",
    "Higgs_low_train_scaled = scaler.fit_transform(Higgs_low_train)\n",
    "Higgs_low_test_scaled =scaler.transform(Higgs_low_test)\n",
    "\n",
    "# Applying feature scalling on low level quantities train and test sets\n",
    "Higgs_high_train_scaled = scaler.fit_transform(Higgs_high_train)\n",
    "Higgs_high_test_scaled =scaler.transform(Higgs_high_test)"
   ]
  },
  {
   "cell_type": "markdown",
   "metadata": {},
   "source": [
    "## **2. TensorFlow classification algorithm**"
   ]
  },
  {
   "cell_type": "code",
   "execution_count": 15,
   "metadata": {},
   "outputs": [],
   "source": [
    "# The plotting module matplotlib\n",
    "import matplotlib.pyplot as plt\n",
    "\n",
    "# Calculating the confusion matrix and the accuracy \n",
    "from sklearn.metrics import confusion_matrix, accuracy_score\n",
    "\n",
    "# Display the confusion matrix\n",
    "from sklearn.metrics import ConfusionMatrixDisplay\n",
    "\n",
    "# Summarize the results of the classification\n",
    "from sklearn.metrics import classification_report\n",
    "\n",
    "# Creating the ROC curve and calculating the AUC score\n",
    "from sklearn.metrics import roc_curve,roc_auc_score\n",
    "\n",
    "# Importing the ANN module we will use\n",
    "import tensorflow as tf\n",
    "\n",
    "# Packages for the build of the ANN\n",
    "from keras.models import Sequential\n",
    "from keras.layers import Dense, Input\n"
   ]
  },
  {
   "cell_type": "markdown",
   "metadata": {},
   "source": [
    "### **2.1 Classification using all the explanatory quantities**"
   ]
  },
  {
   "cell_type": "markdown",
   "metadata": {},
   "source": [
    "#### A. Building the ANNs"
   ]
  },
  {
   "cell_type": "code",
   "execution_count": 16,
   "metadata": {},
   "outputs": [],
   "source": [
    "# Initializing a NN (1 hidden layer)\n",
    "Higgs_NN = tf.keras.models.Sequential()\n",
    "\n",
    "# Adding the input layer and the first hidden layer on NN\n",
    "Higgs_NN.add(Input(shape=(28,)))\n",
    "Higgs_NN.add(tf.keras.layers.Dense(20, activation='relu'))\n",
    "\n",
    "# Adding the output layer on NN\n",
    "Higgs_NN.add(tf.keras.layers.Dense(units=1, activation='sigmoid'))"
   ]
  },
  {
   "cell_type": "code",
   "execution_count": 17,
   "metadata": {},
   "outputs": [],
   "source": [
    "# Initializing a DN (2 hidden layers)\n",
    "Higgs_DN = tf.keras.models.Sequential()\n",
    "\n",
    "# Adding the input layer and the first hidden layer on DN\n",
    "Higgs_DN.add(Input(shape=(28,)))\n",
    "Higgs_DN.add(tf.keras.layers.Dense(20, activation='relu'))\n",
    "\n",
    "# Adding the second hidden layer on DN\n",
    "Higgs_DN.add(tf.keras.layers.Dense(20,activation='relu'))\n",
    "\n",
    "# Adding the output layer on DN\n",
    "Higgs_DN.add(tf.keras.layers.Dense(units=1, activation='sigmoid'))"
   ]
  },
  {
   "cell_type": "code",
   "execution_count": 18,
   "metadata": {},
   "outputs": [],
   "source": [
    "# Compiling the NN\n",
    "Higgs_NN.compile(optimizer=\"adam\",loss=\"binary_crossentropy\",metrics=['accuracy'])\n",
    "\n",
    "# Compiling the DN\n",
    "Higgs_DN.compile(optimizer=\"adam\",loss=\"binary_crossentropy\",metrics=['accuracy'])"
   ]
  },
  {
   "cell_type": "code",
   "execution_count": null,
   "metadata": {},
   "outputs": [],
   "source": [
    "# Summary of NN\n",
    "Higgs_NN.summary()"
   ]
  },
  {
   "cell_type": "code",
   "execution_count": null,
   "metadata": {},
   "outputs": [],
   "source": [
    "# Summary of DN\n",
    "Higgs_DN.summary()"
   ]
  },
  {
   "cell_type": "markdown",
   "metadata": {},
   "source": [
    "#### B. Training the ANNs"
   ]
  },
  {
   "cell_type": "code",
   "execution_count": null,
   "metadata": {},
   "outputs": [],
   "source": [
    "# Training the NN using the scaled training set\n",
    "Higgs_NN.fit(Higgs_train_scaled, Higgs_class_train, batch_size = 100, epochs = 150)"
   ]
  },
  {
   "cell_type": "code",
   "execution_count": null,
   "metadata": {},
   "outputs": [],
   "source": [
    "# Training the DN using the scaled training set\n",
    "Higgs_DN.fit(Higgs_train_scaled, Higgs_class_train, batch_size = 100, epochs = 150)"
   ]
  },
  {
   "cell_type": "markdown",
   "metadata": {},
   "source": [
    "#### C. Making the predictions and evaluating the model"
   ]
  },
  {
   "cell_type": "code",
   "execution_count": null,
   "metadata": {},
   "outputs": [],
   "source": [
    "# Predictions using the NN\n",
    "Higgs_NN_pred = Higgs_NN.predict(Higgs_test_scaled)\n",
    "Higgs_NN_pred"
   ]
  },
  {
   "cell_type": "code",
   "execution_count": null,
   "metadata": {},
   "outputs": [],
   "source": [
    "# Predictions using the NN\n",
    "Higgs_DN_pred = Higgs_DN.predict(Higgs_test_scaled)\n",
    "Higgs_DN_pred"
   ]
  },
  {
   "cell_type": "code",
   "execution_count": null,
   "metadata": {},
   "outputs": [],
   "source": [
    "# Creating the ROC curve\n",
    "fpr_Higgs_NN,tpr_Higgs_NN,_ = roc_curve(Higgs_class_test, Higgs_NN_pred)\n",
    "fpr_Higgs_DN,tpr_Higgs_DN,_ = roc_curve(Higgs_class_test, Higgs_DN_pred)\n",
    "\n",
    "# Calculating the AUC score\n",
    "AUC_Higgs_NN = roc_auc_score(Higgs_class_test, Higgs_NN_pred)\n",
    "AUC_Higgs_DN = roc_auc_score(Higgs_class_test, Higgs_DN_pred)\n",
    "\n",
    "plt.plot(fpr_Higgs_NN, tpr_Higgs_NN, label=\"NN\\nAUC: %.4f\"%AUC_Higgs_NN)\n",
    "plt.plot(fpr_Higgs_DN, tpr_Higgs_DN, label=\"DN\\nAUC: %.4f\"%AUC_Higgs_DN)\n",
    "\n",
    "plt.xlabel('False Positive Rate', fontsize=14)\n",
    "plt.ylabel('True Positive Rate', fontsize=14)\n",
    "plt.title(\"ANNs models for all explanatory quantities\")\n",
    "plt.legend(fontsize=8)\n",
    "plt.show()\n",
    "\n",
    "\n",
    "print(f'NN model AUC score: {AUC_Higgs_NN}')\n",
    "print(f'DN model AUC score: {AUC_Higgs_DN}')  "
   ]
  },
  {
   "cell_type": "code",
   "execution_count": null,
   "metadata": {},
   "outputs": [],
   "source": [
    "# Trasnforming the predictions of NN into True or False\n",
    "Higgs_NN_pred = (Higgs_NN_pred >= 0.5)\n",
    "Higgs_NN_pred"
   ]
  },
  {
   "cell_type": "code",
   "execution_count": null,
   "metadata": {},
   "outputs": [],
   "source": [
    "# Trasnforming the predictions of DN into True or False\n",
    "Higgs_DN_pred = (Higgs_DN_pred >= 0.5)\n",
    "Higgs_DN_pred"
   ]
  },
  {
   "cell_type": "code",
   "execution_count": null,
   "metadata": {},
   "outputs": [],
   "source": [
    "# Calculating the confusion matrix and accuracy score of NN \n",
    "cm_Higgs_NN = confusion_matrix(Higgs_class_test, Higgs_NN_pred)\n",
    "print(cm_Higgs_NN)\n",
    "print(accuracy_score(Higgs_class_test, Higgs_NN_pred))\n",
    "disp_cm_Higgs_NN = ConfusionMatrixDisplay(confusion_matrix=cm_Higgs_NN, display_labels=[\"0\",\"1\"])\n",
    "disp_cm_Higgs_NN.plot()"
   ]
  },
  {
   "cell_type": "code",
   "execution_count": null,
   "metadata": {},
   "outputs": [],
   "source": [
    "# Calculating the confusion matrix and accuracy score of DN \n",
    "cm_Higgs_DN = confusion_matrix(Higgs_class_test, Higgs_DN_pred)\n",
    "print(cm_Higgs_DN)\n",
    "print(accuracy_score(Higgs_class_test, Higgs_DN_pred))\n",
    "disp_cm_Higgs_DN = ConfusionMatrixDisplay(confusion_matrix=cm_Higgs_DN, display_labels=[\"0\",\"1\"])\n",
    "disp_cm_Higgs_DN.plot()"
   ]
  },
  {
   "cell_type": "code",
   "execution_count": null,
   "metadata": {},
   "outputs": [],
   "source": [
    "# Evaluate the NN model on test data\n",
    "loss, accuracy = Higgs_NN.evaluate(Higgs_test_scaled, Higgs_class_test)\n",
    "print(f'Test loss: {loss}')\n",
    "print(f'Test accuracy: {accuracy}')"
   ]
  },
  {
   "cell_type": "markdown",
   "metadata": {},
   "source": [
    "### **2.2 Classification using only the low level explanatory quantities**"
   ]
  },
  {
   "cell_type": "markdown",
   "metadata": {},
   "source": [
    "#### A. Building the ANNs"
   ]
  },
  {
   "cell_type": "code",
   "execution_count": 32,
   "metadata": {},
   "outputs": [],
   "source": [
    "# Initializing a NN (1 hidden layer)\n",
    "Higgs_low_NN = tf.keras.models.Sequential()\n",
    "\n",
    "# Adding the input layer and the first hidden layer on NN\n",
    "Higgs_low_NN.add(Input(shape=(21,)))\n",
    "Higgs_low_NN.add(tf.keras.layers.Dense(30, activation='relu'))\n",
    "\n",
    "# Adding the output layer on NN\n",
    "Higgs_low_NN.add(tf.keras.layers.Dense(units=1, activation='sigmoid'))"
   ]
  },
  {
   "cell_type": "code",
   "execution_count": 33,
   "metadata": {},
   "outputs": [],
   "source": [
    "# Initializing a DN (2 hidden layers)\n",
    "Higgs_low_DN = tf.keras.models.Sequential()\n",
    "\n",
    "# Adding the input layer and the first hidden layer on DN\n",
    "Higgs_low_DN.add(Input(shape=(21,)))\n",
    "Higgs_low_DN.add(tf.keras.layers.Dense(30, activation='relu'))\n",
    "\n",
    "# Adding the second hidden layer on DN\n",
    "Higgs_low_DN.add(tf.keras.layers.Dense(30,activation='relu'))\n",
    "\n",
    "# Adding the output layer on DN\n",
    "Higgs_low_DN.add(tf.keras.layers.Dense(units=1, activation='sigmoid'))"
   ]
  },
  {
   "cell_type": "code",
   "execution_count": 34,
   "metadata": {},
   "outputs": [],
   "source": [
    "# Compiling the NN\n",
    "Higgs_low_NN.compile(optimizer=\"adam\",loss=\"binary_crossentropy\",metrics=['accuracy'])\n",
    "\n",
    "# Compiling the DN\n",
    "Higgs_low_DN.compile(optimizer=\"adam\",loss=\"binary_crossentropy\",metrics=['accuracy'])"
   ]
  },
  {
   "cell_type": "code",
   "execution_count": null,
   "metadata": {},
   "outputs": [],
   "source": [
    "# Summary of NN\n",
    "Higgs_low_NN.summary()"
   ]
  },
  {
   "cell_type": "markdown",
   "metadata": {},
   "source": [
    "#### B. Training the ANNs"
   ]
  },
  {
   "cell_type": "code",
   "execution_count": null,
   "metadata": {},
   "outputs": [],
   "source": [
    "# Training the NN using the scaled training set\n",
    "Higgs_low_NN.fit(Higgs_low_train_scaled, Higgs_low_class_train, batch_size = 100, epochs = 150)"
   ]
  },
  {
   "cell_type": "code",
   "execution_count": null,
   "metadata": {},
   "outputs": [],
   "source": [
    "# Training the DN using the scaled training set\n",
    "Higgs_low_DN.fit(Higgs_low_train_scaled, Higgs_low_class_train, batch_size = 100, epochs = 150)"
   ]
  },
  {
   "cell_type": "markdown",
   "metadata": {},
   "source": [
    "#### C. Making the predictions and evaluating the model"
   ]
  },
  {
   "cell_type": "code",
   "execution_count": null,
   "metadata": {},
   "outputs": [],
   "source": [
    "# Predictions using the NN\n",
    "Higgs_low_NN_pred = Higgs_low_NN.predict(Higgs_low_test_scaled)\n",
    "Higgs_low_NN_pred"
   ]
  },
  {
   "cell_type": "code",
   "execution_count": null,
   "metadata": {},
   "outputs": [],
   "source": [
    "# Predictions using the NN\n",
    "Higgs_low_DN_pred = Higgs_low_DN.predict(Higgs_low_test_scaled)\n",
    "Higgs_low_DN_pred"
   ]
  },
  {
   "cell_type": "code",
   "execution_count": null,
   "metadata": {},
   "outputs": [],
   "source": [
    "# Creating the ROC curve\n",
    "fpr_Higgs_low_NN,tpr_Higgs_low_NN,_ = roc_curve(Higgs_low_class_test, Higgs_low_NN_pred)\n",
    "fpr_Higgs_low_DN,tpr_Higgs_low_DN,_ = roc_curve(Higgs_low_class_test, Higgs_low_DN_pred)\n",
    "\n",
    "# Calculating the AUC score\n",
    "AUC_Higgs_low_NN = roc_auc_score(Higgs_low_class_test, Higgs_low_NN_pred)\n",
    "AUC_Higgs_low_DN = roc_auc_score(Higgs_low_class_test, Higgs_low_DN_pred)\n",
    "\n",
    "plt.plot(fpr_Higgs_low_NN, tpr_Higgs_low_NN, label=\"NN\\nAUC: %.4f\"%AUC_Higgs_low_NN)\n",
    "plt.plot(fpr_Higgs_low_DN, tpr_Higgs_low_DN, label=\"DN\\nAUC: %.4f\"%AUC_Higgs_low_DN)\n",
    "\n",
    "plt.xlabel('False Positive Rate', fontsize=14)\n",
    "plt.ylabel('True Positive Rate', fontsize=14)\n",
    "plt.title(\"ANNs models for low level quantities\")\n",
    "plt.legend(fontsize=8)\n",
    "plt.show()\n",
    "\n",
    "\n",
    "print(f'NN model AUC score: {AUC_Higgs_low_NN}')\n",
    "print(f'DN model AUC score: {AUC_Higgs_low_DN}')  "
   ]
  },
  {
   "cell_type": "code",
   "execution_count": null,
   "metadata": {},
   "outputs": [],
   "source": [
    "# Trasnforming the predictions of NN into True or False\n",
    "Higgs_low_NN_pred = (Higgs_low_NN_pred >= 0.5)\n",
    "Higgs_low_NN_pred"
   ]
  },
  {
   "cell_type": "code",
   "execution_count": null,
   "metadata": {},
   "outputs": [],
   "source": [
    "# Trasnforming the predictions of DN into True or False\n",
    "Higgs_low_DN_pred = (Higgs_low_DN_pred >= 0.5)\n",
    "Higgs_low_DN_pred"
   ]
  },
  {
   "cell_type": "code",
   "execution_count": null,
   "metadata": {},
   "outputs": [],
   "source": [
    "# Calculating the confusion matrix and accuracy score of NN \n",
    "cm_Higgs_low_NN = confusion_matrix(Higgs_low_class_test, Higgs_low_NN_pred)\n",
    "print(cm_Higgs_low_NN)\n",
    "print(accuracy_score(Higgs_low_class_test, Higgs_low_NN_pred))\n",
    "disp_cm_Higgs_low_NN = ConfusionMatrixDisplay(confusion_matrix=cm_Higgs_low_NN, display_labels=[\"0\",\"1\"])\n",
    "disp_cm_Higgs_low_NN.plot()"
   ]
  },
  {
   "cell_type": "code",
   "execution_count": null,
   "metadata": {},
   "outputs": [],
   "source": [
    "# Calculating the confusion matrix and accuracy score of DN \n",
    "cm_Higgs_low_DN = confusion_matrix(Higgs_low_class_test, Higgs_low_DN_pred)\n",
    "print(cm_Higgs_low_DN)\n",
    "print(accuracy_score(Higgs_low_class_test, Higgs_low_DN_pred))\n",
    "disp_cm_Higgs_low_DN = ConfusionMatrixDisplay(confusion_matrix=cm_Higgs_low_DN, display_labels=[\"0\",\"1\"])\n",
    "disp_cm_Higgs_low_DN.plot()"
   ]
  },
  {
   "cell_type": "code",
   "execution_count": null,
   "metadata": {},
   "outputs": [],
   "source": [
    "# Evaluate the NN model on test data\n",
    "loss, accuracy = Higgs_low_NN.evaluate(Higgs_low_test_scaled, Higgs_low_class_test)\n",
    "print(f'Test loss: {loss}')\n",
    "print(f'Test accuracy: {accuracy}')"
   ]
  },
  {
   "cell_type": "code",
   "execution_count": null,
   "metadata": {},
   "outputs": [],
   "source": [
    "# Evaluate the DN model on test data\n",
    "loss, accuracy = Higgs_low_DN.evaluate(Higgs_low_test_scaled, Higgs_low_class_test)\n",
    "print(f'Test loss: {loss}')\n",
    "print(f'Test accuracy: {accuracy}')"
   ]
  },
  {
   "cell_type": "markdown",
   "metadata": {},
   "source": [
    "### **2.3 Classification using only the high level explanatory quantities**"
   ]
  },
  {
   "cell_type": "markdown",
   "metadata": {},
   "source": [
    "#### A. Building the ANNs"
   ]
  },
  {
   "cell_type": "code",
   "execution_count": 48,
   "metadata": {},
   "outputs": [],
   "source": [
    "# Initializing a NN (1 hidden layer)\n",
    "Higgs_high_NN = tf.keras.models.Sequential()\n",
    "\n",
    "# Adding the input layer and the first hidden layer on NN\n",
    "Higgs_high_NN.add(Input(shape=(7,)))\n",
    "Higgs_high_NN.add(tf.keras.layers.Dense(12, activation='relu'))\n",
    "\n",
    "# Adding the output layer on NN\n",
    "Higgs_high_NN.add(tf.keras.layers.Dense(units=1, activation='sigmoid'))"
   ]
  },
  {
   "cell_type": "code",
   "execution_count": 49,
   "metadata": {},
   "outputs": [],
   "source": [
    "# Initializing a DN (2 hidden layers)\n",
    "Higgs_high_DN = tf.keras.models.Sequential()\n",
    "\n",
    "# Adding the input layer and the first hidden layer on DN\n",
    "Higgs_high_DN.add(Input(shape=(7,)))\n",
    "Higgs_high_DN.add(tf.keras.layers.Dense(12, activation='relu'))\n",
    "\n",
    "# Adding the second hidden layer on DN\n",
    "Higgs_high_DN.add(tf.keras.layers.Dense(12,activation='relu'))\n",
    "\n",
    "# Adding the output layer on DN\n",
    "Higgs_high_DN.add(tf.keras.layers.Dense(units=1, activation='sigmoid'))"
   ]
  },
  {
   "cell_type": "code",
   "execution_count": 50,
   "metadata": {},
   "outputs": [],
   "source": [
    "# Compiling the NN\n",
    "Higgs_high_NN.compile(optimizer=\"adam\",loss=\"binary_crossentropy\",metrics=['accuracy'])\n",
    "\n",
    "# Compiling the DN\n",
    "Higgs_high_DN.compile(optimizer=\"adam\",loss=\"binary_crossentropy\",metrics=['accuracy'])"
   ]
  },
  {
   "cell_type": "code",
   "execution_count": null,
   "metadata": {},
   "outputs": [],
   "source": [
    "# Summary of NN\n",
    "Higgs_high_NN.summary()"
   ]
  },
  {
   "cell_type": "code",
   "execution_count": null,
   "metadata": {},
   "outputs": [],
   "source": [
    "# Summary of DN\n",
    "Higgs_high_DN.summary()"
   ]
  },
  {
   "cell_type": "markdown",
   "metadata": {},
   "source": [
    "#### B. Training the ANNs"
   ]
  },
  {
   "cell_type": "code",
   "execution_count": null,
   "metadata": {},
   "outputs": [],
   "source": [
    "# Training the NN using the scaled training set\n",
    "Higgs_high_NN.fit(Higgs_high_train_scaled, Higgs_high_class_train, batch_size = 100, epochs = 150)"
   ]
  },
  {
   "cell_type": "code",
   "execution_count": null,
   "metadata": {},
   "outputs": [],
   "source": [
    "# Training the DN using the scaled training set\n",
    "Higgs_high_DN.fit(Higgs_high_train_scaled, Higgs_high_class_train, batch_size = 100, epochs = 150)"
   ]
  },
  {
   "cell_type": "markdown",
   "metadata": {},
   "source": [
    "#### C. Making the predictions and evaluating the model"
   ]
  },
  {
   "cell_type": "code",
   "execution_count": null,
   "metadata": {},
   "outputs": [],
   "source": [
    "# Predictions using the NN\n",
    "Higgs_high_NN_pred = Higgs_high_NN.predict(Higgs_high_test_scaled)\n",
    "Higgs_high_NN_pred"
   ]
  },
  {
   "cell_type": "code",
   "execution_count": null,
   "metadata": {},
   "outputs": [],
   "source": [
    "# Predictions using the NN\n",
    "Higgs_high_DN_pred = Higgs_high_DN.predict(Higgs_high_test_scaled)\n",
    "Higgs_high_DN_pred"
   ]
  },
  {
   "cell_type": "code",
   "execution_count": null,
   "metadata": {},
   "outputs": [],
   "source": [
    "# Creating the ROC curve\n",
    "fpr_Higgs_high_NN,tpr_Higgs_high_NN,_ = roc_curve(Higgs_high_class_test, Higgs_high_NN_pred)\n",
    "fpr_Higgs_high_DN,tpr_Higgs_high_DN,_ = roc_curve(Higgs_high_class_test, Higgs_high_DN_pred)\n",
    "\n",
    "# Calculating the AUC score\n",
    "AUC_Higgs_high_NN = roc_auc_score(Higgs_high_class_test, Higgs_high_NN_pred)\n",
    "AUC_Higgs_high_DN = roc_auc_score(Higgs_high_class_test, Higgs_high_DN_pred)\n",
    "\n",
    "plt.plot(fpr_Higgs_high_NN, tpr_Higgs_high_NN, label=\"NN\\nAUC: %.4f\"%AUC_Higgs_high_NN)\n",
    "plt.plot(fpr_Higgs_high_DN, tpr_Higgs_high_DN, label=\"DN\\nAUC: %.4f\"%AUC_Higgs_high_DN)\n",
    "\n",
    "plt.xlabel('False Positive Rate', fontsize=14)\n",
    "plt.ylabel('True Positive Rate', fontsize=14)\n",
    "plt.title(\"ANNs models for high level quantities\")\n",
    "plt.legend(fontsize=8)\n",
    "plt.show()\n",
    "\n",
    "\n",
    "print(f'NN model AUC score: {AUC_Higgs_high_NN}')\n",
    "print(f'DN model AUC score: {AUC_Higgs_high_DN}')  "
   ]
  },
  {
   "cell_type": "code",
   "execution_count": null,
   "metadata": {},
   "outputs": [],
   "source": [
    "# Trasnforming the predictions of NN into True or False\n",
    "Higgs_high_NN_pred = (Higgs_high_NN_pred >= 0.5)\n",
    "Higgs_high_NN_pred"
   ]
  },
  {
   "cell_type": "code",
   "execution_count": null,
   "metadata": {},
   "outputs": [],
   "source": [
    "# Trasnforming the predictions of DN into True or False\n",
    "Higgs_high_DN_pred = (Higgs_high_DN_pred >= 0.5)\n",
    "Higgs_high_DN_pred"
   ]
  },
  {
   "cell_type": "code",
   "execution_count": null,
   "metadata": {},
   "outputs": [],
   "source": [
    "# Calculating the confusion matrix and accuracy score of NN \n",
    "cm_Higgs_high_NN = confusion_matrix(Higgs_high_class_test, Higgs_high_NN_pred)\n",
    "print(cm_Higgs_high_NN)\n",
    "print(accuracy_score(Higgs_high_class_test, Higgs_high_NN_pred))\n",
    "disp_cm_Higgs_high_NN = ConfusionMatrixDisplay(confusion_matrix=cm_Higgs_high_NN, display_labels=[\"0\",\"1\"])\n",
    "disp_cm_Higgs_high_NN.plot()"
   ]
  },
  {
   "cell_type": "code",
   "execution_count": null,
   "metadata": {},
   "outputs": [],
   "source": [
    "# Calculating the confusion matrix and accuracy score of DN \n",
    "cm_Higgs_high_DN = confusion_matrix(Higgs_high_class_test, Higgs_high_DN_pred)\n",
    "print(cm_Higgs_high_DN)\n",
    "print(accuracy_score(Higgs_high_class_test, Higgs_high_DN_pred))\n",
    "disp_cm_Higgs_high_DN = ConfusionMatrixDisplay(confusion_matrix=cm_Higgs_high_DN, display_labels=[\"0\",\"1\"])\n",
    "disp_cm_Higgs_high_DN.plot()"
   ]
  },
  {
   "cell_type": "code",
   "execution_count": null,
   "metadata": {},
   "outputs": [],
   "source": [
    "# Evaluate the NN model on test data\n",
    "loss, accuracy = Higgs_high_NN.evaluate(Higgs_high_test_scaled, Higgs_high_class_test)\n",
    "print(f'Test loss: {loss}')\n",
    "print(f'Test accuracy: {accuracy}')"
   ]
  },
  {
   "cell_type": "code",
   "execution_count": null,
   "metadata": {},
   "outputs": [],
   "source": [
    "# Evaluate the DN model on test data\n",
    "loss, accuracy = Higgs_high_DN.evaluate(Higgs_high_test_scaled, Higgs_high_class_test)\n",
    "print(f'Test loss: {loss}')\n",
    "print(f'Test accuracy: {accuracy}')"
   ]
  },
  {
   "cell_type": "markdown",
   "metadata": {},
   "source": [
    "### **2.4 Showing all ROC curves**"
   ]
  },
  {
   "cell_type": "code",
   "execution_count": null,
   "metadata": {},
   "outputs": [],
   "source": [
    "plt.plot(fpr_Higgs_NN, tpr_Higgs_NN, label=\"NN whole\\nAUC: %.4f\"%AUC_Higgs_NN)\n",
    "plt.plot(fpr_Higgs_DN, tpr_Higgs_DN, '--', label=\"DN whole\\nAUC: %.4f\"%AUC_Higgs_DN)\n",
    "\n",
    "plt.plot(fpr_Higgs_low_NN, tpr_Higgs_low_NN, label=\"NN low\\nAUC: %.4f\"%AUC_Higgs_low_NN)\n",
    "plt.plot(fpr_Higgs_low_DN, tpr_Higgs_low_DN, '--', label=\"DN low\\nAUC: %.4f\"%AUC_Higgs_low_DN)\n",
    "\n",
    "plt.plot(fpr_Higgs_high_NN, tpr_Higgs_high_NN, label=\"NN high\\nAUC: %.4f\"%AUC_Higgs_high_NN)\n",
    "plt.plot(fpr_Higgs_high_DN, tpr_Higgs_high_DN,'--', label=\"DN high\\nAUC: %.4f\"%AUC_Higgs_high_DN)\n",
    "\n",
    "plt.xlabel('False Positive Rate', fontsize=14)\n",
    "plt.ylabel('True Positive Rate', fontsize=14)\n",
    "plt.title(\"TensorFlow models\")\n",
    "plt.legend(fontsize=8)\n",
    "plt.show()"
   ]
  },
  {
   "cell_type": "code",
   "execution_count": null,
   "metadata": {},
   "outputs": [],
   "source": []
  }
 ],
 "metadata": {
  "kernelspec": {
   "display_name": "base",
   "language": "python",
   "name": "python3"
  },
  "language_info": {
   "codemirror_mode": {
    "name": "ipython",
    "version": 3
   },
   "file_extension": ".py",
   "mimetype": "text/x-python",
   "name": "python",
   "nbconvert_exporter": "python",
   "pygments_lexer": "ipython3",
   "version": "3.11.7"
  }
 },
 "nbformat": 4,
 "nbformat_minor": 2
}
