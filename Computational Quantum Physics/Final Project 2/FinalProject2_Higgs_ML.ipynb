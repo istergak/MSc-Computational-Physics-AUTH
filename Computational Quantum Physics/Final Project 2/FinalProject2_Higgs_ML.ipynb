{
 "cells": [
  {
   "cell_type": "markdown",
   "metadata": {},
   "source": [
    "**MSc Computational Physics AUTH**<br>\n",
    "**Computational Quantum Physics**<br>\n",
    "**Academic Year: 2023-2024**<br>\n",
    "**Semester 2**<br>\n",
    "**Implemented by: Ioannis Stergakis**<br>\n",
    "**AEM: 4439**<br>\n",
    "\n",
    "# **FINAL PROJECT 2:**<br>\n",
    "# ***Part1: Applying machine learning classification models in hypersymmetric Higgs bosons detection***\n",
    "\n",
    "**Jupyter Notebook 1**<br> \n",
    "\n",
    "**Contents:**<br>\n",
    "*->1. Data importing and preprocessing*<br>\n",
    "*->2. SVM classification algorithm*<br>\n",
    "*->3. Random Forest classification algorithm*<br>"
   ]
  },
  {
   "cell_type": "markdown",
   "metadata": {},
   "source": [
    "## **1. Data Importing and Preprocessing**"
   ]
  },
  {
   "cell_type": "code",
   "execution_count": 1,
   "metadata": {},
   "outputs": [],
   "source": [
    "# Numpy module import\n",
    "import numpy as np\n",
    "\n",
    "# Module for data importation and presentaion\n",
    "import pandas as pd\n",
    "from pandas import DataFrame\n",
    "\n",
    "# Module for detecting and imputing missing data\n",
    "import missingno as msno\n",
    "\n",
    "# ML package for splitting the dataframe into train and test set\n",
    "from sklearn.model_selection import train_test_split\n",
    "\n",
    "# ML package for data scalling\n",
    "from sklearn.preprocessing import StandardScaler"
   ]
  },
  {
   "cell_type": "markdown",
   "metadata": {},
   "source": [
    "### **1.1 Data importation, imputation and presentation**"
   ]
  },
  {
   "cell_type": "markdown",
   "metadata": {},
   "source": [
    "#### **A. Importation**"
   ]
  },
  {
   "cell_type": "code",
   "execution_count": null,
   "metadata": {},
   "outputs": [],
   "source": [
    "# Importing the Higgs detection data\n",
    "df_Higgs=pd.read_csv(\"HIGGS_8K.csv\",header=None)\n",
    "\n",
    "# Showing the data\n",
    "df_Higgs\n"
   ]
  },
  {
   "cell_type": "markdown",
   "metadata": {},
   "source": [
    "#### **B. Imputation**"
   ]
  },
  {
   "cell_type": "code",
   "execution_count": 3,
   "metadata": {},
   "outputs": [
    {
     "data": {
      "text/plain": [
       "'0.000000000000000000e+00.1'"
      ]
     },
     "execution_count": 3,
     "metadata": {},
     "output_type": "execute_result"
    }
   ],
   "source": [
    "# Showing the 18th column's (or 17th column in Python enumeration) first element\n",
    "# this element (as all elements of this column are in str type) and can not be converted to float\n",
    "df_Higgs[17][0]"
   ]
  },
  {
   "cell_type": "code",
   "execution_count": null,
   "metadata": {},
   "outputs": [],
   "source": [
    "# To avoid errors in future caclulations we replace this element's value with 0\n",
    "df_Higgs[17][0] = 0\n",
    "\n",
    "# Then we cast all elements of 17th column to float type\n",
    "n = len(df_Higgs[17])\n",
    "for i in range(0,n):\n",
    "    df_Higgs[17][i] = float(df_Higgs[17][i])  "
   ]
  },
  {
   "cell_type": "code",
   "execution_count": null,
   "metadata": {},
   "outputs": [],
   "source": [
    "# Visualizing the missing data\n",
    "msno.bar(df_Higgs)"
   ]
  },
  {
   "cell_type": "code",
   "execution_count": null,
   "metadata": {},
   "outputs": [],
   "source": [
    "# Applying mean imputation\n",
    "df_Higgs_imputed = df_Higgs.fillna(df_Higgs.mean())\n",
    "\n",
    "# Confirming the imputation\n",
    "msno.bar(df_Higgs_imputed)"
   ]
  },
  {
   "cell_type": "markdown",
   "metadata": {},
   "source": [
    "#### **C. Presentation**"
   ]
  },
  {
   "cell_type": "code",
   "execution_count": 8,
   "metadata": {},
   "outputs": [],
   "source": [
    "# Getting the first column and all rows (class column)\n",
    "Higgs_class = df_Higgs_imputed.iloc[:,0]\n",
    "# Getting the rest column and all rows (all explanatory variables columns)\n",
    "Higgs = df_Higgs_imputed.iloc[:,1:]\n",
    "# Getting the columns 2 to 22 (or 1 to 21 in Python enumeration) and all rows (low level quantities columns)\n",
    "Higgs_low = df_Higgs_imputed.iloc[:,1:22]\n",
    "# Getting the column's 23 to 29 (or 22 to 28 in Python enumeration) and all rows (high level quantities columns)\n",
    "Higgs_high = df_Higgs_imputed.iloc[:,22:]"
   ]
  },
  {
   "cell_type": "code",
   "execution_count": null,
   "metadata": {},
   "outputs": [],
   "source": [
    "# Showing the head of all explanatory variables (low and high level quantities) data\n",
    "Higgs.head()"
   ]
  },
  {
   "cell_type": "code",
   "execution_count": null,
   "metadata": {},
   "outputs": [],
   "source": [
    "# Showing the head of low level quantities data\n",
    "Higgs_low.head()"
   ]
  },
  {
   "cell_type": "code",
   "execution_count": null,
   "metadata": {},
   "outputs": [],
   "source": [
    "# Showing the head of high level quantities data\n",
    "Higgs_high.head()"
   ]
  },
  {
   "cell_type": "code",
   "execution_count": null,
   "metadata": {},
   "outputs": [],
   "source": [
    "# Showing the head of class data\n",
    "Higgs_class.head()"
   ]
  },
  {
   "cell_type": "markdown",
   "metadata": {},
   "source": [
    "### **1.2 Data splitting into train and test sets**"
   ]
  },
  {
   "cell_type": "code",
   "execution_count": 13,
   "metadata": {},
   "outputs": [],
   "source": [
    "# Splitting the data into test and training sets\n",
    "# test_size = 0.25, the percentage of the test size to the complete dataset (here we choose 25%)\n",
    "# random_state is the seed. A specific pseudorandom number to split the data set\n",
    "# in order to produce same splitting every time we run the script.\n",
    "\n",
    "# Splitting the all explanatory quantities data set\n",
    "Higgs_train, Higgs_test, Higgs_class_train, Higgs_class_test = train_test_split(Higgs, Higgs_class, test_size = 0.25, random_state = 50)\n",
    "\n",
    "# Splitting the low level quantities data set\n",
    "Higgs_low_train, Higgs_low_test, Higgs_low_class_train, Higgs_low_class_test = train_test_split(Higgs_low, Higgs_class, test_size = 0.25, random_state = 50)\n",
    "\n",
    "# Splitting the high level quantities data set\n",
    "Higgs_high_train, Higgs_high_test, Higgs_high_class_train, Higgs_high_class_test = train_test_split(Higgs_high, Higgs_class, test_size = 0.25, random_state = 50)"
   ]
  },
  {
   "cell_type": "markdown",
   "metadata": {},
   "source": [
    "### **1.3 Feature Scaling**"
   ]
  },
  {
   "cell_type": "code",
   "execution_count": 14,
   "metadata": {},
   "outputs": [],
   "source": [
    "# Definition of scaler\n",
    "scaler = StandardScaler()\n",
    "\n",
    "# Applying feature scalling on all explanatory quantities train and test sets\n",
    "Higgs_train_scaled = scaler.fit_transform(Higgs_train)\n",
    "Higgs_test_scaled =scaler.transform(Higgs_test)\n",
    "\n",
    "# Applying feature scalling on low level quantities train and test sets\n",
    "Higgs_low_train_scaled = scaler.fit_transform(Higgs_low_train)\n",
    "Higgs_low_test_scaled =scaler.transform(Higgs_low_test)\n",
    "\n",
    "# Applying feature scalling on low level quantities train and test sets\n",
    "Higgs_high_train_scaled = scaler.fit_transform(Higgs_high_train)\n",
    "Higgs_high_test_scaled =scaler.transform(Higgs_high_test)"
   ]
  },
  {
   "cell_type": "markdown",
   "metadata": {},
   "source": [
    "## **2. SVM classification algorithm**"
   ]
  },
  {
   "cell_type": "code",
   "execution_count": 15,
   "metadata": {},
   "outputs": [],
   "source": [
    "# The plotting module matplotlib\n",
    "import matplotlib.pyplot as plt\n",
    "\n",
    "# The SVM classifier package\n",
    "from sklearn.svm import SVC\n",
    "\n",
    "# Calculating the confusion matrix and the accuracy \n",
    "from sklearn.metrics import confusion_matrix, accuracy_score\n",
    "\n",
    "# Display the confusion matrix\n",
    "from sklearn.metrics import ConfusionMatrixDisplay\n",
    "\n",
    "# Summarize the results of the classification\n",
    "from sklearn.metrics import classification_report\n",
    "\n",
    "# Creating the ROC curve and calculating the AUC score\n",
    "from sklearn.metrics import roc_curve,roc_auc_score\n",
    "\n",
    "# Defining the SVC model\n",
    "model_1 = SVC()\n",
    "\n",
    "## Cross validation, here K-fold\n",
    "# 6-fold cross validation with initial seed=50\n",
    "from sklearn.model_selection import KFold\n",
    "from sklearn.model_selection import GridSearchCV\n",
    "kfold = KFold(n_splits=6, shuffle=True, random_state=50)\n",
    "\n",
    "## Grid search initialization using two hyperparameters\n",
    "grid_1 = { \n",
    "'C': [0.1, 0.25, 0.5, 0.75, 1.0, 1.25, 1.5, 1.75, 2.0],\n",
    "'kernel' : ['linear', 'poly', 'rbf', 'sigmoid']\n",
    "}"
   ]
  },
  {
   "cell_type": "markdown",
   "metadata": {},
   "source": [
    "### **2.1 Determining the best SVM model (combining K-fold and grid search)**"
   ]
  },
  {
   "cell_type": "markdown",
   "metadata": {},
   "source": [
    "#### **A. Classification using all explanatory quantities**"
   ]
  },
  {
   "cell_type": "code",
   "execution_count": null,
   "metadata": {},
   "outputs": [],
   "source": [
    "SVC_cv_grid_Higgs = GridSearchCV(estimator=model_1, param_grid=grid_1, scoring='accuracy', cv=kfold)\n",
    "SVC_cv_grid_Higgs.fit(Higgs_train_scaled, Higgs_class_train)"
   ]
  },
  {
   "cell_type": "code",
   "execution_count": null,
   "metadata": {},
   "outputs": [],
   "source": [
    "# Print the best parameters and the best score\n",
    "print(\"Best hyperparameters found: \", SVC_cv_grid_Higgs.best_params_)\n",
    "print(\"Best cross-validation score: \", SVC_cv_grid_Higgs.best_score_)"
   ]
  },
  {
   "cell_type": "code",
   "execution_count": null,
   "metadata": {},
   "outputs": [],
   "source": [
    "# Building the best SVM model\n",
    "SVC_Higgs_best = SVC(C=2.0, kernel='rbf',random_state=50,probability=True)\n",
    "SVC_Higgs_best.fit(Higgs_train_scaled,Higgs_class_train) "
   ]
  },
  {
   "cell_type": "markdown",
   "metadata": {},
   "source": [
    "#### **B. Classification using the low level quantities**"
   ]
  },
  {
   "cell_type": "code",
   "execution_count": null,
   "metadata": {},
   "outputs": [],
   "source": [
    "SVC_cv_grid_Higgs_low = GridSearchCV(estimator=model_1, param_grid=grid_1, scoring='accuracy', cv=kfold)\n",
    "SVC_cv_grid_Higgs_low.fit(Higgs_low_train, Higgs_low_class_train)"
   ]
  },
  {
   "cell_type": "code",
   "execution_count": null,
   "metadata": {},
   "outputs": [],
   "source": [
    "# Building the best SVM model\n",
    "SVC_Higgs_low_best = SVC(C=1.75, kernel='rbf',random_state=50,probability=True)\n",
    "SVC_Higgs_low_best.fit(Higgs_low_train_scaled,Higgs_low_class_train) "
   ]
  },
  {
   "cell_type": "markdown",
   "metadata": {},
   "source": [
    "#### **C. Classification using the high level quantities**"
   ]
  },
  {
   "cell_type": "code",
   "execution_count": null,
   "metadata": {},
   "outputs": [],
   "source": [
    "SVC_cv_grid_Higgs_high = GridSearchCV(estimator=model_1, param_grid=grid_1, scoring='accuracy', cv=kfold)\n",
    "SVC_cv_grid_Higgs_high.fit(Higgs_high_train_scaled, Higgs_high_class_train)"
   ]
  },
  {
   "cell_type": "code",
   "execution_count": null,
   "metadata": {},
   "outputs": [],
   "source": [
    "# Building the best SVM model\n",
    "SVC_Higgs_high_best = SVC(C=1.75, kernel='rbf',random_state=50,probability=True)\n",
    "SVC_Higgs_high_best.fit(Higgs_high_train_scaled,Higgs_high_class_train) "
   ]
  },
  {
   "cell_type": "markdown",
   "metadata": {},
   "source": [
    "### **2.2 Metrics of the best SVM model**"
   ]
  },
  {
   "cell_type": "markdown",
   "metadata": {},
   "source": [
    "#### **A. Metrics for all explanatory quantities classification**"
   ]
  },
  {
   "cell_type": "code",
   "execution_count": null,
   "metadata": {},
   "outputs": [],
   "source": [
    "# Predict on the test set using the best estimator\n",
    "Higgs_test_pred_svm = SVC_Higgs_best.predict(Higgs_test_scaled)\n",
    "Higgs_test_pred_svm"
   ]
  },
  {
   "cell_type": "code",
   "execution_count": null,
   "metadata": {},
   "outputs": [],
   "source": [
    "print(\">ALL QUANTITIES CLASSIFICATION\\n\")\n",
    "# Confusion matrix calculation\n",
    "cm_Higgs_SVC = confusion_matrix(Higgs_class_test,Higgs_test_pred_svm)\n",
    "print(\">>Confusion matrix:\")\n",
    "print(cm_Higgs_SVC)\n",
    "\n",
    "# Accuracy score calculation\n",
    "print(\"\\n>>Accuracy score:\")\n",
    "print(accuracy_score(Higgs_class_test,Higgs_test_pred_svm))\n",
    "\n",
    "# Display the confusion matrix\n",
    "print(\"\\n>>Display of the confusion matrix:\")\n",
    "disp_cm_Higgs_SVC = ConfusionMatrixDisplay(confusion_matrix=cm_Higgs_SVC, display_labels=SVC_Higgs_best.classes_)\n",
    "disp_cm_Higgs_SVC.plot()\n",
    "plt.show()\n",
    "\n",
    "# Classification report\n",
    "print(\"\\n>>Classification report:\")\n",
    "print(classification_report(Higgs_class_test, Higgs_test_pred_svm))"
   ]
  },
  {
   "cell_type": "code",
   "execution_count": null,
   "metadata": {},
   "outputs": [],
   "source": [
    "# Predicted probabilities\n",
    "Higgs_pred_prob_svm = SVC_Higgs_best.predict_proba(Higgs_test_scaled)\n",
    "display(Higgs_pred_prob_svm)"
   ]
  },
  {
   "cell_type": "code",
   "execution_count": null,
   "metadata": {},
   "outputs": [],
   "source": [
    "# Plotting the ROC curve\n",
    "fpr_Higgs_svm,tpr_Higgs_svm,_ = roc_curve(Higgs_class_test, Higgs_pred_prob_svm[:,1])\n",
    "\n",
    "plt.plot(fpr_Higgs_svm, tpr_Higgs_svm, label=\"svm\")\n",
    "\n",
    "plt.xlabel('False Positive Rate', fontsize=14)\n",
    "plt.ylabel('True Positive Rate', fontsize=14)\n",
    "plt.title(\"Best SVM model for all quantities\")\n",
    "plt.legend(fontsize=15)\n",
    "plt.show()\n",
    "\n",
    "# Calculating the AUC score\n",
    "AUC_Higgs_svm = roc_auc_score(Higgs_class_test, Higgs_pred_prob_svm[:,1])\n",
    "print(f'SVM model AUC score: {AUC_Higgs_svm}')  "
   ]
  },
  {
   "cell_type": "markdown",
   "metadata": {},
   "source": [
    "#### **B. Metrics for low level quantities classification**"
   ]
  },
  {
   "cell_type": "code",
   "execution_count": null,
   "metadata": {},
   "outputs": [],
   "source": [
    "# Predict on the test set using the best estimator\n",
    "Higgs_low_test_pred_svm = SVC_Higgs_low_best.predict(Higgs_low_test_scaled)\n",
    "Higgs_low_test_pred_svm"
   ]
  },
  {
   "cell_type": "code",
   "execution_count": null,
   "metadata": {},
   "outputs": [],
   "source": [
    "print(\">LOW LEVEL QUANTITIES CLASSIFICATION\\n\")\n",
    "# Confusion matrix calculation\n",
    "cm_Higgs_low_SVC = confusion_matrix(Higgs_low_class_test,Higgs_low_test_pred_svm)\n",
    "print(\">>Confusion matrix:\")\n",
    "print(cm_Higgs_low_SVC)\n",
    "\n",
    "# Accuracy score calculation\n",
    "print(\"\\n>>Accuracy score:\")\n",
    "print(accuracy_score(Higgs_low_class_test,Higgs_low_test_pred_svm))\n",
    "\n",
    "# Display the confusion matrix\n",
    "print(\"\\n>>Display of the confusion matrix:\")\n",
    "disp_cm_Higgs_low_SVC = ConfusionMatrixDisplay(confusion_matrix=cm_Higgs_low_SVC, display_labels=SVC_Higgs_low_best.classes_)\n",
    "disp_cm_Higgs_low_SVC.plot()\n",
    "plt.show()\n",
    "\n",
    "# Classification report\n",
    "print(\"\\n>>Classification report:\")\n",
    "print(classification_report(Higgs_low_class_test, Higgs_low_test_pred_svm))"
   ]
  },
  {
   "cell_type": "code",
   "execution_count": null,
   "metadata": {},
   "outputs": [],
   "source": [
    "# Predicted probabilities\n",
    "Higgs_low_pred_prob_svm = SVC_Higgs_low_best.predict_proba(Higgs_low_test_scaled)\n",
    "display(Higgs_low_pred_prob_svm)"
   ]
  },
  {
   "cell_type": "code",
   "execution_count": null,
   "metadata": {},
   "outputs": [],
   "source": [
    "# Plotting the ROC curve\n",
    "fpr_Higgs_low_svm,tpr_Higgs_low_svm,_ = roc_curve(Higgs_low_class_test,Higgs_low_pred_prob_svm[:,1])\n",
    "\n",
    "plt.plot(fpr_Higgs_low_svm, tpr_Higgs_low_svm, label=\"svm\")\n",
    "\n",
    "plt.xlabel('False Positive Rate', fontsize=14)\n",
    "plt.ylabel('True Positive Rate', fontsize=14)\n",
    "plt.title(\"Best SVC model for low level quantities\")\n",
    "plt.legend(fontsize=15)\n",
    "plt.show()\n",
    "\n",
    "# Calculating the AUC score\n",
    "AUC_Higgs_low_svm = roc_auc_score(Higgs_low_class_test, Higgs_low_pred_prob_svm[:,1])\n",
    "print(f'SVM model AUC score: {AUC_Higgs_low_svm}')  "
   ]
  },
  {
   "cell_type": "markdown",
   "metadata": {},
   "source": [
    "#### **C. Metrics for high level quantities classification**"
   ]
  },
  {
   "cell_type": "code",
   "execution_count": null,
   "metadata": {},
   "outputs": [],
   "source": [
    "# Predict on the test set using the best estimator\n",
    "Higgs_high_test_pred_svm = SVC_Higgs_high_best.predict(Higgs_high_test_scaled)\n",
    "Higgs_high_test_pred_svm"
   ]
  },
  {
   "cell_type": "code",
   "execution_count": null,
   "metadata": {},
   "outputs": [],
   "source": [
    "# Predicted probabilities\n",
    "Higgs_high_pred_prob_svm = SVC_Higgs_high_best.predict_proba(Higgs_high_test_scaled)\n",
    "display(Higgs_high_pred_prob_svm)"
   ]
  },
  {
   "cell_type": "code",
   "execution_count": null,
   "metadata": {},
   "outputs": [],
   "source": [
    "# Plotting the ROC curve\n",
    "fpr_Higgs_high_svm,tpr_Higgs_high_svm,_ = roc_curve(Higgs_high_class_test, Higgs_high_pred_prob_svm[:,1])\n",
    "\n",
    "plt.plot(fpr_Higgs_high_svm, tpr_Higgs_high_svm, label=\"svm\")\n",
    "\n",
    "plt.xlabel('False Positive Rate', fontsize=14)\n",
    "plt.ylabel('True Positive Rate', fontsize=14)\n",
    "plt.title(\"Best SVC model for high level quantities\")\n",
    "plt.legend(fontsize=15)\n",
    "plt.show()\n",
    "\n",
    "# Calculating the AUC score\n",
    "AUC_Higgs_high_svm = roc_auc_score(Higgs_high_class_test, Higgs_high_pred_prob_svm[:,1])\n",
    "print(f'SVM model AUC score: {AUC_Higgs_high_svm}')  "
   ]
  },
  {
   "cell_type": "markdown",
   "metadata": {},
   "source": [
    "#### **D. Combined ROC curves**"
   ]
  },
  {
   "cell_type": "code",
   "execution_count": null,
   "metadata": {},
   "outputs": [],
   "source": [
    "plt.plot(fpr_Higgs_svm, tpr_Higgs_svm, label=\"svm all\\nAUC: %.4f\"%AUC_Higgs_svm)\n",
    "plt.plot(fpr_Higgs_low_svm, tpr_Higgs_low_svm, label=\"svm low\\nAUC: %.4f\"%AUC_Higgs_low_svm)\n",
    "plt.plot(fpr_Higgs_high_svm, tpr_Higgs_high_svm, label=\"svm high\\nAUC: %.4f\"%AUC_Higgs_high_svm)\n",
    "\n",
    "plt.xlabel('False Positive Rate', fontsize=14)\n",
    "plt.ylabel('True Positive Rate', fontsize=14)\n",
    "plt.title(\"Best SVC model\")\n",
    "plt.legend(fontsize=8)\n",
    "plt.show()"
   ]
  },
  {
   "cell_type": "markdown",
   "metadata": {},
   "source": [
    "## **3. Random forest (RF) classification algorithm**"
   ]
  },
  {
   "cell_type": "code",
   "execution_count": 38,
   "metadata": {},
   "outputs": [],
   "source": [
    "# Package of the random forest algorith,\n",
    "from sklearn.ensemble import RandomForestClassifier\n",
    "\n",
    "# Defining the RF model\n",
    "model_2 = RandomForestClassifier()\n",
    "\n",
    "## Grid search initialization using two hyperparameters\n",
    "grid_2 = { \n",
    "'n_estimators': [10, 50, 100, 200],\n",
    "'criterion' : [\"entropy\",\"gini\",\"log_loss\"]\n",
    "}"
   ]
  },
  {
   "cell_type": "markdown",
   "metadata": {},
   "source": [
    "### **3.1 Determining the best RF model (combining K-fold and grid search)**"
   ]
  },
  {
   "cell_type": "markdown",
   "metadata": {},
   "source": [
    "#### **A. Classification using all explanatory quantities**"
   ]
  },
  {
   "cell_type": "code",
   "execution_count": null,
   "metadata": {},
   "outputs": [],
   "source": [
    "RF_cv_grid_Higgs = GridSearchCV(estimator=model_2, param_grid=grid_2, scoring='accuracy', cv=kfold)\n",
    "RF_cv_grid_Higgs.fit(Higgs_train_scaled, Higgs_class_train)"
   ]
  },
  {
   "cell_type": "code",
   "execution_count": null,
   "metadata": {},
   "outputs": [],
   "source": [
    "# Print the best parameters and the best score\n",
    "print(\"Best hyperparameters found: \", RF_cv_grid_Higgs.best_params_)\n",
    "print(\"Best cross-validation score: \", RF_cv_grid_Higgs.best_score_)\n",
    "RF_Higgs_best = RF_cv_grid_Higgs.best_estimator_"
   ]
  },
  {
   "cell_type": "markdown",
   "metadata": {},
   "source": [
    "#### **B. Classification using low level quantities**"
   ]
  },
  {
   "cell_type": "code",
   "execution_count": null,
   "metadata": {},
   "outputs": [],
   "source": [
    "RF_cv_grid_Higgs_low = GridSearchCV(estimator=model_2, param_grid=grid_2, scoring='accuracy', cv=kfold)\n",
    "RF_cv_grid_Higgs_low.fit(Higgs_low_train_scaled, Higgs_low_class_train)"
   ]
  },
  {
   "cell_type": "code",
   "execution_count": null,
   "metadata": {},
   "outputs": [],
   "source": [
    "# Print the best parameters and the best score\n",
    "print(\"Best hyperparameters found: \", RF_cv_grid_Higgs_low.best_params_)\n",
    "print(\"Best cross-validation score: \", RF_cv_grid_Higgs_low.best_score_)\n",
    "RF_Higgs_low_best = RF_cv_grid_Higgs_low.best_estimator_"
   ]
  },
  {
   "cell_type": "markdown",
   "metadata": {},
   "source": [
    "#### **C. Classification using high level quantities**"
   ]
  },
  {
   "cell_type": "code",
   "execution_count": null,
   "metadata": {},
   "outputs": [],
   "source": [
    "RF_cv_grid_Higgs_high = GridSearchCV(estimator=model_2, param_grid=grid_2, scoring='accuracy', cv=kfold)\n",
    "RF_cv_grid_Higgs_high.fit(Higgs_high_train_scaled, Higgs_high_class_train)"
   ]
  },
  {
   "cell_type": "code",
   "execution_count": null,
   "metadata": {},
   "outputs": [],
   "source": [
    "# Print the best parameters and the best score\n",
    "print(\"Best hyperparameters found: \", RF_cv_grid_Higgs_high.best_params_)\n",
    "print(\"Best cross-validation score: \", RF_cv_grid_Higgs_high.best_score_)\n",
    "RF_Higgs_high_best = RF_cv_grid_Higgs_high.best_estimator_"
   ]
  },
  {
   "cell_type": "markdown",
   "metadata": {},
   "source": [
    "### **3.2 Metrics of the best RF model**"
   ]
  },
  {
   "cell_type": "markdown",
   "metadata": {},
   "source": [
    "#### **A. Metrics for all explanatory quantities classification**"
   ]
  },
  {
   "cell_type": "code",
   "execution_count": null,
   "metadata": {},
   "outputs": [],
   "source": [
    "# Predict on the test set using the best estimator\n",
    "Higgs_test_pred_rf = RF_Higgs_best.predict(Higgs_test_scaled)\n",
    "Higgs_test_pred_rf"
   ]
  },
  {
   "cell_type": "code",
   "execution_count": null,
   "metadata": {},
   "outputs": [],
   "source": [
    "print(\">ALL QUANTITIES CLASSIFICATION\\n\")\n",
    "# Confusion matrix calculation\n",
    "cm_Higgs_RF = confusion_matrix(Higgs_class_test,Higgs_test_pred_rf)\n",
    "print(\">>Confusion matrix:\")\n",
    "print(cm_Higgs_RF)\n",
    "\n",
    "# Accuracy score calculation\n",
    "print(\"\\n>>Accuracy score:\")\n",
    "print(accuracy_score(Higgs_class_test,Higgs_test_pred_rf))\n",
    "\n",
    "# Display the confusion matrix\n",
    "print(\"\\n>>Display of the confusion matrix:\")\n",
    "disp_cm_Higgs_RF = ConfusionMatrixDisplay(confusion_matrix=cm_Higgs_RF, display_labels=RF_Higgs_best.classes_)\n",
    "disp_cm_Higgs_RF.plot()\n",
    "plt.show()\n",
    "\n",
    "# Classification report\n",
    "print(\"\\n>>Classification report:\")\n",
    "print(classification_report(Higgs_class_test, Higgs_test_pred_rf))"
   ]
  },
  {
   "cell_type": "code",
   "execution_count": null,
   "metadata": {},
   "outputs": [],
   "source": [
    "# Predicted probabilities\n",
    "Higgs_pred_prob_rf = RF_Higgs_best.predict_proba(Higgs_test_scaled)\n",
    "display(Higgs_pred_prob_rf)"
   ]
  },
  {
   "cell_type": "code",
   "execution_count": null,
   "metadata": {},
   "outputs": [],
   "source": [
    "# Plotting the ROC curve\n",
    "fpr_Higgs_rf,tpr_Higgs_rf,_ = roc_curve(Higgs_class_test, Higgs_pred_prob_rf[:,1])\n",
    "\n",
    "plt.plot(fpr_Higgs_rf, tpr_Higgs_rf, label=\"rf\")\n",
    "\n",
    "plt.xlabel('False Positive Rate', fontsize=14)\n",
    "plt.ylabel('True Positive Rate', fontsize=14)\n",
    "plt.title(\"Best RF model for all quantities\")\n",
    "plt.legend(fontsize=15)\n",
    "plt.show()\n",
    "\n",
    "# Calculating the AUC score\n",
    "AUC_Higgs_rf = roc_auc_score(Higgs_class_test, Higgs_pred_prob_rf[:,1])\n",
    "print(f'RF model AUC score: {AUC_Higgs_rf}')    "
   ]
  },
  {
   "cell_type": "markdown",
   "metadata": {},
   "source": [
    "#### **B. Metrics for low level quantities classification**"
   ]
  },
  {
   "cell_type": "code",
   "execution_count": null,
   "metadata": {},
   "outputs": [],
   "source": [
    "# Predict on the test set using the best estimator\n",
    "Higgs_low_test_pred_rf = RF_Higgs_low_best.predict(Higgs_low_test_scaled)\n",
    "Higgs_low_test_pred_rf"
   ]
  },
  {
   "cell_type": "code",
   "execution_count": null,
   "metadata": {},
   "outputs": [],
   "source": [
    "print(\">LOW LEVEL QUANTITIES CLASSIFICATION\\n\")\n",
    "# Confusion matrix calculation\n",
    "cm_Higgs_low_RF = confusion_matrix(Higgs_low_class_test,Higgs_low_test_pred_rf)\n",
    "print(\">>Confusion matrix:\")\n",
    "print(cm_Higgs_low_RF)\n",
    "\n",
    "# Accuracy score calculation\n",
    "print(\"\\n>>Accuracy score:\")\n",
    "print(accuracy_score(Higgs_low_class_test,Higgs_low_test_pred_rf))\n",
    "\n",
    "# Display the confusion matrix\n",
    "print(\"\\n>>Display of the confusion matrix:\")\n",
    "disp_cm_Higgs_low_RF = ConfusionMatrixDisplay(confusion_matrix=cm_Higgs_low_RF, display_labels=RF_Higgs_low_best.classes_)\n",
    "disp_cm_Higgs_low_RF.plot()\n",
    "plt.show()\n",
    "\n",
    "# Classification report\n",
    "print(\"\\n>>Classification report:\")\n",
    "print(classification_report(Higgs_low_class_test, Higgs_low_test_pred_rf))"
   ]
  },
  {
   "cell_type": "code",
   "execution_count": null,
   "metadata": {},
   "outputs": [],
   "source": [
    "# Predicted probabilities\n",
    "Higgs_low_pred_prob_rf = RF_Higgs_low_best.predict_proba(Higgs_low_test_scaled)\n",
    "display(Higgs_low_pred_prob_rf)"
   ]
  },
  {
   "cell_type": "code",
   "execution_count": null,
   "metadata": {},
   "outputs": [],
   "source": [
    "# Plotting the ROC curve\n",
    "fpr_Higgs_low_rf,tpr_Higgs_low_rf,_ = roc_curve(Higgs_low_class_test,Higgs_low_pred_prob_rf[:,1])\n",
    "\n",
    "plt.plot(fpr_Higgs_low_rf, tpr_Higgs_low_rf, label=\"rf\")\n",
    "\n",
    "plt.xlabel('False Positive Rate', fontsize=14)\n",
    "plt.ylabel('True Positive Rate', fontsize=14)\n",
    "plt.title(\"Best RF model for low level quantities\")\n",
    "plt.legend(fontsize=15)\n",
    "plt.show()\n",
    "\n",
    "# Calculating the AUC score\n",
    "AUC_Higgs_low_rf = roc_auc_score(Higgs_low_class_test, Higgs_low_pred_prob_rf[:,1])\n",
    "print(f'RF model AUC score: {AUC_Higgs_low_rf}')  "
   ]
  },
  {
   "cell_type": "markdown",
   "metadata": {},
   "source": [
    "#### **C. Metrics for high level quantities classification**"
   ]
  },
  {
   "cell_type": "code",
   "execution_count": null,
   "metadata": {},
   "outputs": [],
   "source": [
    "# Predict on the test set using the best estimator\n",
    "Higgs_high_test_pred_rf = RF_Higgs_high_best.predict(Higgs_high_test_scaled)\n",
    "Higgs_high_test_pred_rf"
   ]
  },
  {
   "cell_type": "code",
   "execution_count": null,
   "metadata": {},
   "outputs": [],
   "source": [
    "print(\">HIGH LEVEL QUANTITIES CLASSIFICATION\\n\")\n",
    "# Confusion matrix calculation\n",
    "cm_Higgs_high_RF = confusion_matrix(Higgs_high_class_test,Higgs_high_test_pred_rf)\n",
    "print(\">>Confusion matrix:\")\n",
    "print(cm_Higgs_high_RF)\n",
    "\n",
    "# Accuracy score calculation\n",
    "print(\"\\n>>Accuracy score:\")\n",
    "print(accuracy_score(Higgs_high_class_test,Higgs_high_test_pred_rf))\n",
    "\n",
    "# Display the confusion matrix\n",
    "print(\"\\n>>Display of the confusion matrix:\")\n",
    "disp_cm_Higgs_high_RF = ConfusionMatrixDisplay(confusion_matrix=cm_Higgs_high_RF, display_labels=RF_Higgs_high_best.classes_)\n",
    "disp_cm_Higgs_high_RF.plot()\n",
    "plt.show()\n",
    "\n",
    "# Classification report\n",
    "print(\"\\n>>Classification report:\")\n",
    "print(classification_report(Higgs_high_class_test, Higgs_high_test_pred_rf))"
   ]
  },
  {
   "cell_type": "code",
   "execution_count": null,
   "metadata": {},
   "outputs": [],
   "source": [
    "# Predicted probabilities\n",
    "Higgs_high_pred_prob_rf = RF_Higgs_high_best.predict_proba(Higgs_high_test_scaled)\n",
    "display(Higgs_high_pred_prob_rf)"
   ]
  },
  {
   "cell_type": "code",
   "execution_count": null,
   "metadata": {},
   "outputs": [],
   "source": [
    "# Plotting the ROC curve\n",
    "fpr_Higgs_high_rf,tpr_Higgs_high_rf,_ = roc_curve(Higgs_high_class_test, Higgs_high_pred_prob_rf[:,1])\n",
    "\n",
    "plt.plot(fpr_Higgs_high_rf, tpr_Higgs_high_rf, label=\"rf\")\n",
    "\n",
    "plt.xlabel('False Positive Rate', fontsize=14)\n",
    "plt.ylabel('True Positive Rate', fontsize=14)\n",
    "plt.title(\"Best RF model for high level quantities\")\n",
    "plt.legend(fontsize=15)\n",
    "plt.show()\n",
    "\n",
    "# Calculating the AUC score\n",
    "AUC_Higgs_high_rf = roc_auc_score(Higgs_high_class_test, Higgs_high_pred_prob_rf[:,1])\n",
    "print(f'RF model AUC score: {AUC_Higgs_high_rf}')  "
   ]
  },
  {
   "cell_type": "markdown",
   "metadata": {},
   "source": [
    "#### **D. Combined ROC curves**"
   ]
  },
  {
   "cell_type": "code",
   "execution_count": null,
   "metadata": {},
   "outputs": [],
   "source": [
    "plt.plot(fpr_Higgs_rf, tpr_Higgs_rf, label=\"rf all\\nAUC: %.4f\"%AUC_Higgs_rf)\n",
    "plt.plot(fpr_Higgs_low_rf, tpr_Higgs_low_rf, label=\"rf low\\nAUC: %.4f\"%AUC_Higgs_low_rf)\n",
    "plt.plot(fpr_Higgs_high_rf, tpr_Higgs_high_rf, label=\"rf high\\nAUC: %.4f\"%AUC_Higgs_high_rf)\n",
    "\n",
    "plt.xlabel('False Positive Rate', fontsize=14)\n",
    "plt.ylabel('True Positive Rate', fontsize=14)\n",
    "plt.title(\"Best RF model\")\n",
    "plt.legend(fontsize=8)\n",
    "plt.show()"
   ]
  },
  {
   "cell_type": "markdown",
   "metadata": {},
   "source": []
  }
 ],
 "metadata": {
  "kernelspec": {
   "display_name": "base",
   "language": "python",
   "name": "python3"
  },
  "language_info": {
   "codemirror_mode": {
    "name": "ipython",
    "version": 3
   },
   "file_extension": ".py",
   "mimetype": "text/x-python",
   "name": "python",
   "nbconvert_exporter": "python",
   "pygments_lexer": "ipython3",
   "version": "3.11.7"
  }
 },
 "nbformat": 4,
 "nbformat_minor": 2
}
