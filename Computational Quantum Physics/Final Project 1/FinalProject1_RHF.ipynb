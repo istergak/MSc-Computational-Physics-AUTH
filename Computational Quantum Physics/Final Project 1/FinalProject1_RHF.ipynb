{
 "cells": [
  {
   "cell_type": "markdown",
   "metadata": {},
   "source": [
    "**MSc Computational Physics AUTH**<br>\n",
    "**Computational Quantum Physics**<br>\n",
    "**Academic Year: 2023-2024**<br>\n",
    "**Semester 2**<br>\n",
    "**Implemented by: Ioannis Stergakis**<br>\n",
    "**AEM: 4439**<br>\n",
    "\n",
    "# **FINAL PROJECT 1:** ***Calculating the Roothaan-Hartree-Fock Ground-State atomic wavefunctions for $He$ through $Ne$***\n",
    "**Jupyter Notebook**<br> \n",
    "\n",
    "**Contents:**<br>\n",
    "*->1. Codes<br>\n",
    "->2. Results*"
   ]
  },
  {
   "cell_type": "markdown",
   "metadata": {},
   "source": [
    "## **1. Codes**"
   ]
  },
  {
   "cell_type": "markdown",
   "metadata": {},
   "source": [
    "### **1.1 Modules importing and symbols definition**"
   ]
  },
  {
   "cell_type": "code",
   "execution_count": 1,
   "metadata": {},
   "outputs": [],
   "source": [
    "# Modules import\n",
    "\n",
    "# Module for numerical calculations\n",
    "import numpy as np\n",
    "\n",
    "# Module for symbolic calculations and expressions display\n",
    "import sympy as smp\n",
    "\n",
    "# Package for integrating\n",
    "from scipy.integrate import quad\n",
    "\n",
    "# Module for additional math expressions like factorial\n",
    "import math as math\n",
    "\n",
    "# Module for time measurement\n",
    "import time as time\n",
    "\n",
    "# Package for presenting the results in a compact way\n",
    "from prettytable import PrettyTable\n",
    "\n",
    "# Module for plotting\n",
    "import matplotlib.pyplot as plt"
   ]
  },
  {
   "cell_type": "code",
   "execution_count": 2,
   "metadata": {},
   "outputs": [],
   "source": [
    "# Useful symbols definition\n",
    "r,k,theta,phi,z = smp.symbols(\"r,k,θ,φ,z\")\n",
    "pi = smp.pi\n",
    "I = smp.I\n",
    "inf = np.Infinity"
   ]
  },
  {
   "cell_type": "markdown",
   "metadata": {},
   "source": [
    "### **1.2 Elements and orbitals data structure**"
   ]
  },
  {
   "cell_type": "code",
   "execution_count": 3,
   "metadata": {},
   "outputs": [],
   "source": [
    "# Helium (He,Z=2)\n",
    "# s-orbitals\n",
    "He_S = [[\"n_js\",\"Z_j1\",\"C_j1s\"],\n",
    "        [1,1.4595,1.347900],\n",
    "        [3,5.3244,-0.001613],\n",
    "        [2,2.6298,-0.100506],\n",
    "        [2,1.7504,-0.270779]]\n",
    "# p-orbitals\n",
    "He_P = [[\"n_jp\",\"Z_jp\",\"C_j2p\"],\n",
    "        []]\n",
    "He = [He_S,He_P]\n",
    "\n",
    "# Lithium (Li,Z=3)\n",
    "# s-orbitals\n",
    "Li_S = [[\"n_js\",\"Z_js\",\"C_j1s\",\"C_j2s\"],\n",
    "        [1,4.3069,0.141279,-0.022416],\n",
    "        [1,2.4573,0.874231,-0.135791],\n",
    "        [3,6.7850,-0.005201,0.000389],\n",
    "        [2,7.4527,-0.002307,-0.000068],\n",
    "        [2,1.8504,0.006985,-0.076544],\n",
    "        [2,0.7667,-0.000305,0.340542],\n",
    "        [2,0.6364,0.00076,0.715708]]\n",
    "# p-orbitals\n",
    "Li_P = [[\"n_jp\",\"Z_jp\",\"C_j2p\"],\n",
    "        []]\n",
    "Li = [Li_S,Li_P]\n",
    "\n",
    "# Beryllium (Be,Z=4)\n",
    "# s-orbitals\n",
    "Be_S = [[\"n_js\",\"Z_js\",\"C_j1s\",\"C_j2s\"],\n",
    "        [1,5.7531,0.285107,-0.016378],\n",
    "        [1,3.7156,0.474813,-0.155066],\n",
    "        [3,9.9670,-0.001620,0.000426],\n",
    "        [3,3.7128,0.052852,-0.059234],\n",
    "        [2,4.4661,0.243499,-0.031925],\n",
    "        [2,1.2919,0.000106,0.387968],\n",
    "        [2,0.8555,-0.000032,0.685674]]\n",
    "# p-orbitals\n",
    "Be_P = [[\"n_jp\",\"Z_jp\",\"C_j2p\"],\n",
    "        []]\n",
    "Be = [Be_S,Be_P]\n",
    "\n",
    "# Boron (B,Z=5)\n",
    "# s-orbitals\n",
    "B_S = [[\"n_js\",\"Z_js\",\"C_j1s\",\"C_j2s\"],\n",
    "        [1,7.0178,0.381607,-0.022549],\n",
    "        [1,3.9468,0.423958,0.321716],\n",
    "        [3,12.7297,-0.001316,-0.000452],\n",
    "        [3,2.7646,-0.000822,-0.072032],\n",
    "        [2,5.7420,0.237016,-0.050313],\n",
    "        [2,1.5436,0.001062,-0.484281],\n",
    "        [2,1.0802,-0.000137,-0.518986]]\n",
    "# p-orbitals\n",
    "B_P = [[\"n_jp\",\"Z_jp\",\"C_j2p\"],\n",
    "        [2,5.7416,0.007600],\n",
    "        [2,2.6341,0.045137],\n",
    "        [2,1.8340,0.184206],\n",
    "        [2,1.1919,0.394754],\n",
    "        [2,0.8494,0.432795]]\n",
    "B = [B_S,B_P]\n",
    "\n",
    "# Carbon (C,Z=6)\n",
    "# s-orbitals\n",
    "C_S = [[\"n_js\",\"Z_js\",\"C_j1s\",\"C_j2s\"],\n",
    "        [1,8.4936,0.352872,-0.071727],\n",
    "        [1,4.8788,0.473621,0.438307],\n",
    "        [3,15.4660,-0.001199,-0.000383],\n",
    "        [2,7.0500,0.210887,-0.091194],\n",
    "        [2,2.2640,0.000886,-0.393105],\n",
    "        [2,1.4747,0.000465,-0.579121],\n",
    "        [2,1.1639,-0.000119,-0.126067]]\n",
    "# p-orbitals\n",
    "C_P = [[\"n_jp\",\"Z_jp\",\"C_j2p\"],\n",
    "        [2,7.0500,0.006977],\n",
    "        [2,3.2275,0.070877],\n",
    "        [2,2.1908,0.230802],\n",
    "        [2,1.4413,0.411931],\n",
    "        [2,1.0242,0.350701]]\n",
    "C = [C_S,C_P]\n",
    "\n",
    "# Nitrogen (N,Z=7)\n",
    "# s-orbitals\n",
    "N_S = [[\"n_js\",\"Z_js\",\"C_j1s\",\"C_j2s\"],\n",
    "        [1,9.9051,0.354839,-0.067498],\n",
    "        [1,5.7429,0.472579,0.434142],\n",
    "        [3,17.9816,-0.001038,-0.000315],\n",
    "        [2,8.3087,0.208492,-0.080331],\n",
    "        [2,2.7611,0.001687,-0.374128],\n",
    "        [2,1.8223,0.000206,-0.522775],\n",
    "        [2,1.4191,0.000064,-0.207735]]\n",
    "# p-orbitals\n",
    "N_P = [[\"n_jp\",\"Z_jp\",\"C_j2p\"],\n",
    "        [2,8.3490,0.006323],\n",
    "        [2,3.8827,0.082938],\n",
    "        [2,2.5920,0.260147],\n",
    "        [2,1.6946,0.418361],\n",
    "        [2,1.1914,0.308272]]\n",
    "N = [N_S,N_P]\n",
    "\n",
    "# Oxygen (O,Z=8)\n",
    "# s-orbitals\n",
    "O_S = [[\"n_js\",\"Z_js\",\"C_j1s\",\"C_j2s\"],\n",
    "        [1,11.2970,0.360063,-0.064363],\n",
    "        [1,6.5966,0.466625,0.433186],\n",
    "        [3,20.5019,-0.000918,-0.000275],\n",
    "        [2,9.5546,0.208441,-0.072497],\n",
    "        [2,3.2482,0.002018,-0.369900],\n",
    "        [2,2.1608,0.000216,-0.512627],\n",
    "        [2,1.6411,0.000133,-0.227421]]\n",
    "# p-orbitals\n",
    "O_P = [[\"n_jp\",\"Z_jp\",\"C_j2p\"],\n",
    "        [2,9.6471,0.005626],\n",
    "        [2,4.3323,0.126618],\n",
    "        [2,2.7502,0.328966],\n",
    "        [2,1.7525,0.395422],\n",
    "        [2,1.2473,0.231788]]\n",
    "O = [O_S,O_P]\n",
    "\n",
    "# Fluorine (F,Z=9)\n",
    "# s-orbitals\n",
    "F_S = [[\"n_js\",\"Z_js\",\"C_j1s\",\"C_j2s\"],\n",
    "        [1,12.6074,0.377498,-0.058489],\n",
    "        [1,7.4101,0.443947,0.426450],\n",
    "        [3,23.2475,-0.000797,-0.000274],\n",
    "        [2,10.7416,0.213846,-0.063457],\n",
    "        [2,3.7543,0.002183,-0.358939],\n",
    "        [2,2.5009,0.000335,-0.516660],\n",
    "        [2,1.8577,0.000147,-0.239143]]\n",
    "# p-orbitals\n",
    "F_P = [[\"n_jp\",\"Z_jp\",\"C_j2p\"],\n",
    "        [2,11.0134,0.004879],\n",
    "        [2,4.9962,0.130794],\n",
    "        [2,3.1540,0.337876],\n",
    "        [2,1.9722,0.396122],\n",
    "        [2,1.3632,0.225374]]\n",
    "F = [F_S,F_P]\n",
    "\n",
    "# Neon (Ne,Z=10)\n",
    "# s-orbitals\n",
    "Ne_S = [[\"n_js\",\"Z_js\",\"C_j1s\",\"C_j2s\"],\n",
    "        [1,13.9074,0.392290,-0.053023],\n",
    "        [1,8.2187,0.425817,0.419502],\n",
    "        [3,26.0325,-0.000702,-0.000263],\n",
    "        [2,11.9249,0.217206,-0.055723],\n",
    "        [2,4.2635,0.002300,-0.349457],\n",
    "        [2,2.8357,0.000463,-0.523070],\n",
    "        [2,2.0715,0.000147,-0.246038]]\n",
    "# p-orbitals\n",
    "Ne_P = [[\"n_jp\",\"Z_jp\",\"C_j2p\"],\n",
    "        [2,12.3239,0.004391],\n",
    "        [2,5.6525,0.133955],\n",
    "        [2,3.5570,0.342978],\n",
    "        [2,2.2056,0.395742],\n",
    "        [2,1.4948,0.221831]]\n",
    "Ne = [Ne_S,Ne_P]\n",
    "\n",
    "# Data table of Elements\n",
    "elements = [\n",
    "    [2, He,'He'],\n",
    "    [3, Li,'Li'],\n",
    "    [4, Be,'Be'],\n",
    "    [5, B,'B'],\n",
    "    [6, C,'C'],\n",
    "    [7, N,'N'],\n",
    "    [8, O,'O'],\n",
    "    [9, F,'F'],\n",
    "    [10, Ne,'Ne']]\n",
    "\n",
    "# Find element data by its atomic number Z\n",
    "def find_elmt_data(Z):\n",
    "    m = len(elements)\n",
    "    for i in range(0,m):\n",
    "        if elements[i][0]==Z:\n",
    "            return elements[i][1]\n",
    "            break\n",
    "    return 'no element'\n",
    "\n",
    "# Find element name by its atomic number Z\n",
    "def find_elmt_name(Z):\n",
    "    m = len(elements)\n",
    "    for i in range(0,m):\n",
    "        if elements[i][0]==Z:\n",
    "            return elements[i][2]\n",
    "            break\n",
    "    # not-found the atomic number case    \n",
    "    return 'no element'\n",
    "\n",
    "# Orbital name table according to momentum quantum number l\n",
    "orb_name_table = [\n",
    "    [0,\"s\"],\n",
    "    [1,\"p\"],\n",
    "    [2,\"d\"],\n",
    "    [3,\"f\"]\n",
    "] \n",
    "\n",
    "# Find orbital's name by its principal and azimuthal quantum number n,l\n",
    "def find_orb_name(n,l):\n",
    "    m = len(orb_name_table)\n",
    "    for i in range(0,m):\n",
    "        if orb_name_table[i][0]==l:\n",
    "            return str(n)+orb_name_table[i][1]\n",
    "            break\n",
    "    # not-found the azimuthal quantum number l case    \n",
    "    return 'no orbital'    "
   ]
  },
  {
   "cell_type": "markdown",
   "metadata": {},
   "source": [
    "### **1.3 RHF Radial wave-functions $R_{nl}(r)$ calculation**"
   ]
  },
  {
   "cell_type": "code",
   "execution_count": 4,
   "metadata": {},
   "outputs": [],
   "source": [
    "# Normalization constant Njl\n",
    "def Njl(z,n):\n",
    "    return np.power(2*z,n+0.5)/np.power(math.factorial(2*n),0.5)\n",
    "\n",
    "# Slater-type atomic orbitals (STO) in position (r) space\n",
    "def Srjl(r,z,n):\n",
    "    return Njl(z,n)*r**(n-1)*smp.exp(-z*r)\n",
    "\n",
    "# RHF radial position-wave functions R = R_nl(r)\n",
    "def Rnl(r,n,l,Z):\n",
    "    Elmt = find_elmt_data(Z) # finding the element and returning its data\n",
    "    Elmt_orb = Elmt[l] # choosing the orbital's data from the element's data\n",
    "    q = len(Elmt_orb) # length of the orbital's data table\n",
    "    R = 0 # initializing the Rnl(r) value\n",
    "    # performing iterative sequence for the linear combination that results to the final Rnl(r) value\n",
    "    for j in range(1,q):\n",
    "        n_orb = Elmt_orb[j][0] # principal quantum number of the jth contributing Slater-type orbital\n",
    "        z = Elmt_orb[j][1] # orbital's exponent of the jth contributing Slater-type orbital\n",
    "        c = Elmt_orb[j][n+1-l] # linear combination's coefficient for the jth contributing Slater-type orbital\n",
    "        R = R + c*Srjl(r,z,n_orb)\n",
    "    return R \n",
    "\n",
    "# Normalization check\n",
    "def I_Rnl(r,n,l,Z):\n",
    "    return quad(lambda r: Rnl(r,n,l,Z)**2*r**2,0,inf)[0] \n",
    "\n",
    "# taking the [0] element of quad, the [1] element of quad contains the error in the calculation of the integral"
   ]
  },
  {
   "cell_type": "code",
   "execution_count": 5,
   "metadata": {},
   "outputs": [
    {
     "data": {
      "text/latex": [
       "$\\displaystyle 2.0 z^{1.5} e^{- r z}$"
      ],
      "text/plain": [
       "2.0*z**1.5*exp(-r*z)"
      ]
     },
     "execution_count": 5,
     "metadata": {},
     "output_type": "execute_result"
    }
   ],
   "source": [
    "# Sr1s\n",
    "Srjl(r,z,1)"
   ]
  },
  {
   "cell_type": "code",
   "execution_count": 6,
   "metadata": {},
   "outputs": [
    {
     "data": {
      "text/latex": [
       "$\\displaystyle 1.15470053837925 r z^{2.5} e^{- r z}$"
      ],
      "text/plain": [
       "1.15470053837925*r*z**2.5*exp(-r*z)"
      ]
     },
     "execution_count": 6,
     "metadata": {},
     "output_type": "execute_result"
    }
   ],
   "source": [
    "# Sr2s\n",
    "Srjl(r,z,2)"
   ]
  },
  {
   "cell_type": "code",
   "execution_count": 7,
   "metadata": {},
   "outputs": [
    {
     "data": {
      "text/latex": [
       "$\\displaystyle 0.421637021355784 r^{2} z^{3.5} e^{- r z}$"
      ],
      "text/plain": [
       "0.421637021355784*r**2*z**3.5*exp(-r*z)"
      ]
     },
     "execution_count": 7,
     "metadata": {},
     "output_type": "execute_result"
    }
   ],
   "source": [
    "# Sr3s\n",
    "Srjl(r,z,3)"
   ]
  },
  {
   "cell_type": "code",
   "execution_count": 8,
   "metadata": {},
   "outputs": [
    {
     "data": {
      "text/latex": [
       "$\\displaystyle 1.15470053837925 r z^{2.5} e^{- r z}$"
      ],
      "text/plain": [
       "1.15470053837925*r*z**2.5*exp(-r*z)"
      ]
     },
     "execution_count": 8,
     "metadata": {},
     "output_type": "execute_result"
    }
   ],
   "source": [
    "# Sr2p\n",
    "Srjl(r,z,2)"
   ]
  },
  {
   "cell_type": "code",
   "execution_count": 9,
   "metadata": {},
   "outputs": [],
   "source": [
    "# Plotting the radial position-space RHF wave-function R_nl(r)\n",
    "def plot_Rnl(min_r,max_r,n,l,Z,axis):\n",
    "    elmt_name = find_elmt_name(Z)\n",
    "    plot_points = 200\n",
    "    r_vals = np.linspace(min_r,max_r,plot_points)\n",
    "    phi_sq_vals = []\n",
    "    for i in range(0,plot_points):\n",
    "        phi_sq = (Rnl(r_vals[i],n,l,Z)*r_vals[i])**2\n",
    "        phi_sq_vals.append(phi_sq)\n",
    "\n",
    "    axis.plot(r_vals,phi_sq_vals,label=\"$_{%d}%s$\"%(Z,elmt_name))"
   ]
  },
  {
   "cell_type": "markdown",
   "metadata": {},
   "source": [
    "### **1.4 RHF Momentum wave-functions $K_{nl}(k)$ calculation**"
   ]
  },
  {
   "cell_type": "code",
   "execution_count": 10,
   "metadata": {},
   "outputs": [],
   "source": [
    "# Slater-type orbitals Sjl(k) or Skjl in momentum (k) space\n",
    "\n",
    "# Sk1s\n",
    "def Sk1s(z,k):\n",
    "    return (1/(2*pi)**(3/2))*16*pi*z**(5/2)/((z**2 + k**2)**2)\n",
    "\n",
    "# Sk2s\n",
    "def Sk2s(z,k):\n",
    "    return (1/(2*pi)**(3/2))*16*pi*z**(5/2)*(3*z**2-k**2)/(np.sqrt(3)*(z**2+k**2)**3)\n",
    "\n",
    "# Sk3s\n",
    "def Sk3s(z,k):\n",
    "    return (1/(2*pi)**(3/2))*64*np.sqrt(10)*pi*z**(9/2)*(z**2-k**2)/(5*(z**2+k**2)**4)\n",
    "\n",
    "# Sk2p\n",
    "def Sk2p(z,k):\n",
    "    return (1/(2*pi)**(3/2))*64*pi*k*z**(7/2)/(np.sqrt(3)*(z**2+k**2)**3)\n",
    "\n",
    "# Sk3p (this orbital is just defined for filling the matrix below)\n",
    "def Sk3p(z,k):\n",
    "    return (1/(2*pi)**(3/2))*64*np.sqrt(10)*pi*k*z**(7/2)*(5*z**2-k**2)/(15*(z**2+k**2)**4)\n",
    "\n",
    "# Skjl matrix\n",
    "def Skjl(z,k):\n",
    "    sk_mat = []\n",
    "    sk_mat.append((Sk1s(z,k),np.NAN))\n",
    "    sk_mat.append((Sk2s(z,k),Sk2p(z,k)))\n",
    "    sk_mat.append((Sk3s(z,k),Sk3p(z,k)))\n",
    "    return smp.Matrix(sk_mat)\n",
    "\n",
    "# RHF radial momentum-wave functions K = R_nl(k)\n",
    "def Knl(k,n,l,Z):\n",
    "    Elmt = find_elmt_data(Z) # finding the element and returning its data\n",
    "    Elmt_orb = Elmt[l] # choosing the orbital's data from the element's data\n",
    "    q = len(Elmt_orb) # length of the orbital's data table\n",
    "    K = 0 # initializing the Rnl(k) value\n",
    "    # performing iterative sequence for the linear combination that results to the final Rnl(k) value\n",
    "    for j in range(1,q):\n",
    "        n_orb = Elmt_orb[j][0] # principal quantum number of the jth contributing Slater-type orbital\n",
    "        z = Elmt_orb[j][1] # orbital's exponent of the jth contributing Slater-type orbital\n",
    "        c = Elmt_orb[j][n+1-l] # linear combination's coefficient for the jth contributing Slater-type orbital\n",
    "        K = K + c*Skjl(z,k)[n_orb-1,l].evalf()\n",
    "    return K \n",
    "\n",
    "# Normalization check\n",
    "def I_Knl(k,n,l,Z):\n",
    "    return quad(lambda k: Knl(k,n,l,Z)**2*k**2,0,inf)[0]"
   ]
  },
  {
   "cell_type": "code",
   "execution_count": 11,
   "metadata": {},
   "outputs": [
    {
     "data": {
      "text/latex": [
       "$\\displaystyle \\left[\\begin{matrix}\\frac{5.65685424949238 z^{2.5}}{\\pi^{0.5} \\left(k^{2} + z^{2}\\right)^{2}} & \\text{NaN}\\\\\\frac{3.2659863237109 z^{2.5} \\left(- k^{2} + 3 z^{2}\\right)}{\\pi^{0.5} \\left(k^{2} + z^{2}\\right)^{3}} & \\frac{13.0639452948436 k z^{3.5}}{\\pi^{0.5} \\left(k^{2} + z^{2}\\right)^{3}}\\\\\\frac{14.3108350559987 z^{4.5} \\left(- k^{2} + z^{2}\\right)}{\\pi^{0.5} \\left(k^{2} + z^{2}\\right)^{4}} & \\frac{4.77027835199955 k z^{3.5} \\left(- k^{2} + 5 z^{2}\\right)}{\\pi^{0.5} \\left(k^{2} + z^{2}\\right)^{4}}\\end{matrix}\\right]$"
      ],
      "text/plain": [
       "Matrix([\n",
       "[                5.65685424949238*z**2.5/(pi**0.5*(k**2 + z**2)**2),                                                                   nan],\n",
       "[3.2659863237109*z**2.5*(-k**2 + 3*z**2)/(pi**0.5*(k**2 + z**2)**3),                  13.0639452948436*k*z**3.5/(pi**0.5*(k**2 + z**2)**3)],\n",
       "[ 14.3108350559987*z**4.5*(-k**2 + z**2)/(pi**0.5*(k**2 + z**2)**4), 4.77027835199955*k*z**3.5*(-k**2 + 5*z**2)/(pi**0.5*(k**2 + z**2)**4)]])"
      ]
     },
     "execution_count": 11,
     "metadata": {},
     "output_type": "execute_result"
    }
   ],
   "source": [
    "# Skjl Matrix\n",
    "Skjl(z,k)"
   ]
  },
  {
   "cell_type": "code",
   "execution_count": 12,
   "metadata": {},
   "outputs": [
    {
     "data": {
      "text/latex": [
       "$\\displaystyle \\frac{5.65685424949238 z^{2.5}}{\\pi^{0.5} \\left(k^{2} + z^{2}\\right)^{2}}$"
      ],
      "text/plain": [
       "5.65685424949238*z**2.5/(pi**0.5*(k**2 + z**2)**2)"
      ]
     },
     "execution_count": 12,
     "metadata": {},
     "output_type": "execute_result"
    }
   ],
   "source": [
    "#Sk1s\n",
    "Skjl(z,k)[0,0]"
   ]
  },
  {
   "cell_type": "code",
   "execution_count": 13,
   "metadata": {},
   "outputs": [
    {
     "data": {
      "text/latex": [
       "$\\displaystyle \\frac{3.2659863237109 z^{2.5} \\left(- k^{2} + 3 z^{2}\\right)}{\\pi^{0.5} \\left(k^{2} + z^{2}\\right)^{3}}$"
      ],
      "text/plain": [
       "3.2659863237109*z**2.5*(-k**2 + 3*z**2)/(pi**0.5*(k**2 + z**2)**3)"
      ]
     },
     "execution_count": 13,
     "metadata": {},
     "output_type": "execute_result"
    }
   ],
   "source": [
    "#Sk2s\n",
    "Skjl(z,k)[1,0]"
   ]
  },
  {
   "cell_type": "code",
   "execution_count": 14,
   "metadata": {},
   "outputs": [
    {
     "data": {
      "text/latex": [
       "$\\displaystyle \\frac{14.3108350559987 z^{4.5} \\left(- k^{2} + z^{2}\\right)}{\\pi^{0.5} \\left(k^{2} + z^{2}\\right)^{4}}$"
      ],
      "text/plain": [
       "14.3108350559987*z**4.5*(-k**2 + z**2)/(pi**0.5*(k**2 + z**2)**4)"
      ]
     },
     "execution_count": 14,
     "metadata": {},
     "output_type": "execute_result"
    }
   ],
   "source": [
    "#Sk3s\n",
    "Skjl(z,k)[2,0]"
   ]
  },
  {
   "cell_type": "code",
   "execution_count": 15,
   "metadata": {},
   "outputs": [
    {
     "data": {
      "text/latex": [
       "$\\displaystyle \\frac{13.0639452948436 k z^{3.5}}{\\pi^{0.5} \\left(k^{2} + z^{2}\\right)^{3}}$"
      ],
      "text/plain": [
       "13.0639452948436*k*z**3.5/(pi**0.5*(k**2 + z**2)**3)"
      ]
     },
     "execution_count": 15,
     "metadata": {},
     "output_type": "execute_result"
    }
   ],
   "source": [
    "#Sk2p\n",
    "Skjl(z,k)[1,1]"
   ]
  },
  {
   "cell_type": "code",
   "execution_count": 16,
   "metadata": {},
   "outputs": [
    {
     "data": {
      "text/latex": [
       "$\\displaystyle \\frac{4.77027835199955 k z^{3.5} \\left(- k^{2} + 5 z^{2}\\right)}{\\pi^{0.5} \\left(k^{2} + z^{2}\\right)^{4}}$"
      ],
      "text/plain": [
       "4.77027835199955*k*z**3.5*(-k**2 + 5*z**2)/(pi**0.5*(k**2 + z**2)**4)"
      ]
     },
     "execution_count": 16,
     "metadata": {},
     "output_type": "execute_result"
    }
   ],
   "source": [
    "#Sk3p\n",
    "Skjl(z,k)[2,1]"
   ]
  },
  {
   "cell_type": "code",
   "execution_count": 17,
   "metadata": {},
   "outputs": [],
   "source": [
    "# Plotting the radial position-space RHF wave-function K_nl(k)\n",
    "def plot_Knl(min_k,max_k,n,l,Z,axis):\n",
    "    elmt_name = find_elmt_name(Z)\n",
    "    plot_points = 200\n",
    "    k_vals = np.linspace(min_k,max_k,plot_points)\n",
    "    phi_sq_vals = []\n",
    "    for i in range(0,plot_points):\n",
    "        phi_sq = (Knl(k_vals[i],n,l,Z)*k_vals[i])**2\n",
    "        phi_sq_vals.append(phi_sq)\n",
    "\n",
    "    axis.plot(k_vals,phi_sq_vals,label=\"$_{%d}%s$\"%(Z,elmt_name))"
   ]
  },
  {
   "cell_type": "markdown",
   "metadata": {},
   "source": [
    "### **1.5 Calculation of the density distributions and entropies**"
   ]
  },
  {
   "cell_type": "markdown",
   "metadata": {},
   "source": [
    "#### **1.5.1 Preliminaries**"
   ]
  },
  {
   "cell_type": "code",
   "execution_count": 18,
   "metadata": {},
   "outputs": [
    {
     "data": {
      "text/latex": [
       "$\\displaystyle \\left[\\begin{matrix}n & l\\\\1 & 0\\\\2 & 0\\\\2 & 1\\end{matrix}\\right]$"
      ],
      "text/plain": [
       "Matrix([\n",
       "[n, l],\n",
       "[1, 0],\n",
       "[2, 0],\n",
       "[2, 1]])"
      ]
     },
     "execution_count": 18,
     "metadata": {},
     "output_type": "execute_result"
    }
   ],
   "source": [
    "# Filling queue of the atomic orbitals by electrons at ground state\n",
    "orb_fill_queue = smp.Matrix([[\"n\",\"l\"],[1,0],[2,0],[2,1]])\n",
    "orb_fill_queue"
   ]
  },
  {
   "cell_type": "code",
   "execution_count": 19,
   "metadata": {},
   "outputs": [],
   "source": [
    "# Electrons distribution in atomic orbitals at atom's ground-state\n",
    "def e_orb_dist(Z):\n",
    "    electron_dist = []\n",
    "    orb_names = []\n",
    "    N_e = Z # number of electrons at neutral atom\n",
    "    m = int(len(orb_fill_queue)/2)\n",
    "    for i in range(1,m):\n",
    "        n = orb_fill_queue[i,0]\n",
    "        l = orb_fill_queue[i,1]\n",
    "        max_orb_e = 2*(2*l+1) # maximum electron capacity of orbital\n",
    "        orb_name = find_orb_name(n,l)\n",
    "        if N_e<=max_orb_e:\n",
    "            electron_dist.append((N_e))\n",
    "            orb_names.append(orb_name)\n",
    "            break\n",
    "        else:\n",
    "            electron_dist.append(max_orb_e)\n",
    "            orb_names.append(orb_name)\n",
    "            N_e = N_e - max_orb_e\n",
    "    return [electron_dist,orb_names]        "
   ]
  },
  {
   "cell_type": "code",
   "execution_count": 20,
   "metadata": {},
   "outputs": [
    {
     "data": {
      "text/plain": [
       "[[2], ['1s']]"
      ]
     },
     "execution_count": 20,
     "metadata": {},
     "output_type": "execute_result"
    }
   ],
   "source": [
    "# Example of electron's distribution for Z=2\n",
    "e_orb_dist(2)"
   ]
  },
  {
   "cell_type": "code",
   "execution_count": 21,
   "metadata": {},
   "outputs": [
    {
     "data": {
      "text/plain": [
       "[[2, 1], ['1s', '2s']]"
      ]
     },
     "execution_count": 21,
     "metadata": {},
     "output_type": "execute_result"
    }
   ],
   "source": [
    "# Example of electron's distribution for Z=3\n",
    "e_orb_dist(3)"
   ]
  },
  {
   "cell_type": "code",
   "execution_count": 22,
   "metadata": {},
   "outputs": [
    {
     "data": {
      "text/plain": [
       "[[2, 2, 6], ['1s', '2s', '2p']]"
      ]
     },
     "execution_count": 22,
     "metadata": {},
     "output_type": "execute_result"
    }
   ],
   "source": [
    "# Example of electron's distribution for Z=10\n",
    "e_orb_dist(10)"
   ]
  },
  {
   "cell_type": "markdown",
   "metadata": {},
   "source": [
    "#### **1.5.2 Electron density distribution $\\rho(r)$ and position space Shannon information entropy**"
   ]
  },
  {
   "cell_type": "code",
   "execution_count": 23,
   "metadata": {},
   "outputs": [],
   "source": [
    "# Electron density distribution ρ_r = ρ(r) \n",
    "def pr(r,Z):\n",
    "    result = 0 # intializing the value of ρ(r) \n",
    "    e_dist = e_orb_dist(Z)[0] # getting the electrons distribution in ground state\n",
    "    m = len(e_dist) # number of orbitals R_nl(r) that are occupied and contribute\n",
    "    for i in range(0,m):\n",
    "        e_fill = e_dist[i] # number of electrons that occupy the ith contributing orbital R_nl(r)\n",
    "        n = orb_fill_queue[i+1,0] # getting the principal quantum number n of the ith contributing orbital R_nl(r)\n",
    "        l = orb_fill_queue[i+1,1] # getting the azimuthal quantum number l of the ith contributing orbital R_nl(r)\n",
    "        R_nl = Rnl(r,n,l,Z)\n",
    "        result = result + e_fill*R_nl**2\n",
    "    return (1/(4*pi*Z))*result\n",
    "\n",
    "# Normalization check\n",
    "def I_pr(r,Z):\n",
    "    return 4*np.pi*quad(lambda r: pr(r,Z)*r**2,0,inf)[0]\n",
    "\n",
    "# Local Shannon entropy calculation (position-space)\n",
    "def SR_loc(r,Z):\n",
    "    return -4*pi*pr(r,Z)*smp.log(pr(r,Z))*r**2\n",
    "\n",
    "# Total Shannon entropy calculation (position-space)\n",
    "def SR_tot(r,Z):\n",
    "    return quad(lambda r: SR_loc(r,Z),0,inf)[0]"
   ]
  },
  {
   "cell_type": "code",
   "execution_count": 24,
   "metadata": {},
   "outputs": [],
   "source": [
    "# Plotting the electron density distribution p(r)\n",
    "def plot_pr(min_r,max_r,Z,axis):\n",
    "    elmt_name = find_elmt_name(Z)\n",
    "    plot_points = 200\n",
    "    r_vals = np.linspace(min_r,max_r,plot_points)\n",
    "    pr_vals = []\n",
    "    for i in range(0,plot_points):\n",
    "        pr_vals.append(4*np.pi*pr(r_vals[i],Z)*r_vals[i]**2)\n",
    "\n",
    "    axis.plot(r_vals,pr_vals,label=\"$_{%d}%s$\"%(Z,elmt_name))"
   ]
  },
  {
   "cell_type": "markdown",
   "metadata": {},
   "source": [
    "#### **1.5.3 Momentum density distribution $n(k)$ and momentum space Shannon information entropy**"
   ]
  },
  {
   "cell_type": "code",
   "execution_count": 25,
   "metadata": {},
   "outputs": [],
   "source": [
    "# Momentum density distribution n_k = n(k) \n",
    "def nk(k,Z):\n",
    "    result = 0 # intializing the value of n(k)\n",
    "    e_dist = e_orb_dist(Z)[0] # getting the electrons distribution in ground state\n",
    "    m = len(e_dist) # number of orbitals R_nl(k) that are occupied and contribute\n",
    "    for i in range(0,m):\n",
    "        e_fill = e_dist[i] # number of electrons that occupy the ith contributing orbital R_nl(k)\n",
    "        n = orb_fill_queue[i+1,0] # getting the principal quantum number n of the ith contributing orbital R_nl(k)\n",
    "        l = orb_fill_queue[i+1,1] # getting the azimuthal quantum number l of the ith contributing orbital R_nl(k)\n",
    "        K_nl = Knl(k,n,l,Z)\n",
    "        result = result + e_fill*K_nl**2\n",
    "    return (1/(4*pi*Z))*result\n",
    "\n",
    "# Normalization check\n",
    "def I_nk(k,Z):\n",
    "    return 4*np.pi*quad(lambda k: nk(k,Z)*k**2,0,inf)[0]\n",
    "\n",
    "# Local Shannon entropy calculation (momentum-space)\n",
    "def SK_loc(k,Z):\n",
    "    return -4*pi*nk(k,Z)*smp.log(nk(k,Z))*k**2\n",
    "\n",
    "# Total Shannon entropy calculation (momentum-space)\n",
    "def SK_tot(k,Z):\n",
    "    return quad(lambda k: SK_loc(k,Z),0,inf)[0]    "
   ]
  },
  {
   "cell_type": "code",
   "execution_count": 26,
   "metadata": {},
   "outputs": [],
   "source": [
    "# Plotting the momentum density distribution n(k)\n",
    "def plot_nk(min_k,max_k,Z,axis):\n",
    "    elmt_name = find_elmt_name(Z)\n",
    "    plot_points = 200\n",
    "    k_vals = np.linspace(min_k,max_k,plot_points)\n",
    "    nk_vals = []\n",
    "    for i in range(0,plot_points):\n",
    "        nk_vals.append(4*np.pi*nk(k_vals[i],Z)*k_vals[i]**2)\n",
    "\n",
    "    axis.plot(k_vals,nk_vals,label=\"$_{%d}%s$\"%(Z,elmt_name))"
   ]
  },
  {
   "cell_type": "markdown",
   "metadata": {},
   "source": [
    "### **1.6 Showing the results**"
   ]
  },
  {
   "cell_type": "code",
   "execution_count": 27,
   "metadata": {},
   "outputs": [],
   "source": [
    "# Give the amount of orbitals and return 2 axes, one to be used for position and one to be used for momentum space plots\n",
    "def produce_axis(orbs_amount):\n",
    "    axes = []\n",
    "\n",
    "    for i in range(0,orbs_amount):\n",
    "        fig_orbRnl,ax_orbRnl = plt.subplots(1,1,figsize=(10,6))\n",
    "        fig_orbKnl,ax_orbKnl = plt.subplots(1,1,figsize=(10,6))\n",
    "        axes.append((fig_orbRnl,ax_orbRnl,fig_orbKnl,ax_orbKnl))\n",
    "    return axes    "
   ]
  },
  {
   "cell_type": "markdown",
   "metadata": {},
   "source": [
    "#### **1.6.1 Showing the RHF wave-functions results**"
   ]
  },
  {
   "cell_type": "code",
   "execution_count": 28,
   "metadata": {},
   "outputs": [],
   "source": [
    "# Give a minimum Z and a maximum Z and return the expressions of the atomic orbitals\n",
    "def RHFwf_form(min_Z,max_Z):\n",
    "    print(\"ROOTHAN-HARTREE-FOCK WAVE-FUNCTIONS\\nFormulas\\n\\n\")\n",
    "    for Z in range(min_Z,max_Z+1):\n",
    "        elmt_name = find_elmt_name(Z)\n",
    "        e_dist = e_orb_dist(Z)[0]\n",
    "        orbs_occup = e_orb_dist(Z)[1] \n",
    "        orbs_amount = len(e_dist)\n",
    "        print(\"========================================================================\")\n",
    "        print(\">ELEMENT: [%s,Z=%d]\"%(elmt_name,Z))\n",
    "        print(\"--------------------------------------------------------------\")\n",
    "        print(\">>Orbitals occupation (by electrons): \")\n",
    "        display(e_dist)\n",
    "        display(orbs_occup)\n",
    "        print(\"--------------------------------------------------------------\")\n",
    "        for i in range(0,3):\n",
    "            print(\"V   V   V   V   V   V   V   V   V   V   V   V   V   V   V   V\")    \n",
    "        for i in range(0,orbs_amount):\n",
    "            n = orb_fill_queue[i+1,0]\n",
    "            l = orb_fill_queue[i+1,1]\n",
    "            orb_name = find_orb_name(n,l)\n",
    "            print(\"--------------------------------------------------------------\")\n",
    "            print(\">>Atomic Orbital %s:  (e occup. %d)\"%(orbs_occup[i],e_dist[i]))\n",
    "\n",
    "            print(\"--------------------------------------------------------------\")\n",
    "            print(\"R%s(r) (position-space):\"%orb_name)\n",
    "            display(Rnl(r,n,l,Z))\n",
    "            print(\"Norm check: %.10f\"%I_Rnl(r,n,l,Z))\n",
    "            print(\"--------------------------------------------------------------\")\n",
    "\n",
    "            print(\"K%s(k) (momentum-space):\"%orb_name)\n",
    "            display(Knl(k,n,l,Z))\n",
    "            print(\"Norm check: %.10f\"%I_Knl(k,n,l,Z))\n",
    "\n",
    "            n = 3\n",
    "            symb1 = \"--------------------------------------------------------------\"\n",
    "            symb2 = \"V   V   V   V   V   V   V   V   V   V   V   V   V   V   V  V\"\n",
    "            if i==orbs_amount-1:\n",
    "                n = 5\n",
    "                symb1 = \"========================================================================\"\n",
    "                symb2 = \" \"\n",
    "            print(\"%s\"%symb1)    \n",
    "            for i in range(0,n):\n",
    "                print(\"%s\"%symb2) "
   ]
  },
  {
   "cell_type": "code",
   "execution_count": 29,
   "metadata": {},
   "outputs": [],
   "source": [
    "# Give a minimum Z and a maximum Z and create the plots of the atomic orbitals\n",
    "# The maximum in r-axis is given as max_r in nm\n",
    "# The maximum in k-axis is given as max_k in nm^(-1)\n",
    "# Both the maximums in r-axis and k-axis are given as arrays since we have lots of plots\n",
    "# Both r-axis and k-axis start from 0 in the plots\n",
    "def RHFwf_plot(min_Z,max_Z,max_r,max_k):\n",
    "    print(\"ROOTHAN-HARTREE-FOCK WAVE-FUNCTIONS\\nPlots\\n\")\n",
    "    save = int(input(\"Would you like to save the plots? [1=Yes, AnyOtherNumber=No]:  \"))\n",
    "    \n",
    "    max_orbs = len(e_orb_dist(max_Z)[0])\n",
    "    axes = produce_axis(max_orbs)\n",
    "    \n",
    "    print(\"\\n>Supervising the plotting process:\")\n",
    "    print(\"----------------------------------------------------\")\n",
    "    for Z in range(min_Z,max_Z+1):\n",
    "        elmt_name = find_elmt_name(Z)\n",
    "        orbs_amount = len(e_orb_dist(Z)[0])\n",
    "        print(\">>ELEMENT [%s,Z=%d]:\"%(elmt_name,Z))\n",
    "        start_time = time.time() \n",
    "        for i in range(0,orbs_amount):\n",
    "            n = orb_fill_queue[i+1,0]\n",
    "            l = orb_fill_queue[i+1,1]\n",
    "            orb_name = find_orb_name(n,l)\n",
    "            \n",
    "            fig_orbRnl = axes[i][0]\n",
    "            fig_orbKnl = axes[i][2]\n",
    "\n",
    "            ax_orbRnl = axes[i][1]\n",
    "            ax_orbKnl = axes[i][3]\n",
    "\n",
    "            plot_Rnl(0,max_r[i],n,l,Z,ax_orbRnl)\n",
    "            plot_Knl(0,max_k[i],n,l,Z,ax_orbKnl)\n",
    "           \n",
    "            if Z==max_Z:\n",
    "                ax_orbRnl.set_xlabel(\"Radius r ($nm$)\")\n",
    "                ax_orbRnl.set_ylabel(\"$\\phi_{%s}(r)=(r*R_{%s}(r))^2$\"%(orb_name,orb_name))\n",
    "                ax_orbRnl.set_title(\"Atomic Orbital %s (position-space)\"%orb_name)\n",
    "                ax_orbRnl.legend(bbox_to_anchor=(1.01, 1.), loc='upper left')\n",
    "                ax_orbRnl.grid()\n",
    "\n",
    "                ax_orbKnl.set_xlabel(\"Momentum vector norm k ($nm^{-1}$)\")\n",
    "                ax_orbKnl.set_ylabel(\"$\\phi_{%s}(k)=(k*K_{%s}(k))^2$\"%(orb_name,orb_name))\n",
    "                ax_orbKnl.set_title(\"Atomic Orbital %s (momentum-space)\"%orb_name)\n",
    "                ax_orbKnl.legend(bbox_to_anchor=(1.01, 1.), loc='upper left')\n",
    "                ax_orbKnl.grid()\n",
    "                \n",
    "                # Saving the figures\n",
    "                if save==1:\n",
    "                    fig_orbRnl.savefig(\"FigR%s.pdf\"%orb_name,dpi=200)\n",
    "                    fig_orbKnl.savefig(\"FigK%s.pdf\"%orb_name,dpi=200)\n",
    "\n",
    "            print(\"Plotting done for Orbital %s !!!\"%orb_name)        \n",
    "                    \n",
    "        end_time = time.time()    \n",
    "        print(\"Total Elapsed time %.3f sec\"%(end_time-start_time))\n",
    "        print(\"----------------------------------------------------\")            "
   ]
  },
  {
   "cell_type": "markdown",
   "metadata": {},
   "source": [
    "#### **1.6.2 Showing the density distributions and Shannon information entropies results**"
   ]
  },
  {
   "cell_type": "code",
   "execution_count": 30,
   "metadata": {},
   "outputs": [],
   "source": [
    "# Give a minimum Z and a maximum Z and return the expressions \n",
    "# of the density distributions and the local information entropies\n",
    "def RHFentrp_form(min_Z,max_Z):\n",
    "    print(\"DENSITY DISTRIBUTIONS AND SHANNON INFORMATION ENTROPIES\\nFormulas\\n\\n\")\n",
    "    for Z in range(min_Z,max_Z+1):\n",
    "        elmt_name = find_elmt_name(Z)\n",
    "        e_dist = e_orb_dist(Z)[0]\n",
    "        orbs_occup = e_orb_dist(Z)[1] \n",
    "        orbs_amount = len(e_dist)\n",
    "        print(\"========================================================================\")\n",
    "        print(\">ELEMENT: [%s,Z=%d]\"%(elmt_name,Z))\n",
    "        print(\"--------------------------------------------------------------\")\n",
    "        print(\">>Electron density distribution\")\n",
    "        print(\"--------------------------------------------------------------\")\n",
    "        symbpr = f\"1/(4π*%d) \"%Z\n",
    "        for i in range(0,orbs_amount):\n",
    "            if i==0:\n",
    "                symbpr = symbpr + f\"%d*R%s(r)^2\"%(e_dist[i],orbs_occup[i])\n",
    "            else:\n",
    "                symbpr = symbpr + f\"+%d*R%s(r)^2\"%(e_dist[i],orbs_occup[i])\n",
    "        print(\"Form: ρ(r)=%s\\n\"%symbpr)\n",
    "        display(pr(r,Z))\n",
    "        print(\"Norm check: %.10f\"%I_pr(r,Z))\n",
    "        print(\"--------------------------------------------------------------\")\n",
    "        for i in range(0,3):\n",
    "                print(\"V   V   V   V   V   V   V   V   V   V   V   V   V   V   V  V\")\n",
    "\n",
    "        print(\"--------------------------------------------------------------\")\n",
    "        print(\">>Local Shannon Information Entropy (position-space)\")\n",
    "        print(\"--------------------------------------------------------------\")\n",
    "        print(\"Form: SR_loc(r) = -4π(r^2)ρ(r)ln(ρ(r))\\n\")\n",
    "        display(SR_loc(r,Z))\n",
    "        print(\"--------------------------------------------------------------\")\n",
    "        for i in range(0,3):\n",
    "                print(\"V   V   V   V   V   V   V   V   V   V   V   V   V   V   V  V\")\n",
    "\n",
    "        print(\"--------------------------------------------------------------\")\n",
    "        print(\">>Momentum density distribution\")\n",
    "        print(\"--------------------------------------------------------------\")\n",
    "        symbnk = f\"1/(4π*%d) \"%Z\n",
    "        for i in range(0,orbs_amount):\n",
    "            if i==0:\n",
    "                symbnk = symbnk + f\"%d*K%s(k)^2\"%(e_dist[i],orbs_occup[i])\n",
    "            else:\n",
    "                symbnk = symbnk + f\"+%d*K%s(k)^2\"%(e_dist[i],orbs_occup[i])\n",
    "        print(\"Form: n(k)=%s\\n\"%symbnk)\n",
    "        display(nk(k,Z))\n",
    "        print(\"Norm check: %.10f\"%I_nk(k,Z))\n",
    "        print(\"--------------------------------------------------------------\")\n",
    "        for i in range(0,3):\n",
    "                print(\"V   V   V   V   V   V   V   V   V   V   V   V   V   V   V  V\")\n",
    "\n",
    "        print(\"--------------------------------------------------------------\")\n",
    "        print(\">>Local Shannon Information Entropy (momentum-space)\")\n",
    "        print(\"--------------------------------------------------------------\")\n",
    "        print(\"Form: SK_loc(k) = -4π(k^2)n(k)ln(n(k))\\n\")\n",
    "        display(SK_loc(k,Z))\n",
    "        print(\"========================================================================\")\n",
    "        for i in range(0,6):\n",
    "                print(\" \")                "
   ]
  },
  {
   "cell_type": "code",
   "execution_count": 31,
   "metadata": {},
   "outputs": [],
   "source": [
    "# Give a minimum Z and a maximum Z and create the plots of the density distributions\n",
    "# The maximum in r-axis is given as max_r in nm\n",
    "# The maximum in k-axis is given as max_k nm^(-1)\n",
    "# Both the maximums in r-axis and k-axis are given as arrays since we have lots of plots\n",
    "# Both r-axis and k-axis start from 0 in the plots\n",
    "def RHFdens_plot(min_Z,max_Z,max_r,max_k):\n",
    "    print(\"DENISTY DISTRIBUTIONS\\nPlots\\n\")\n",
    "    save = int(input(\"Would you like to save the plots? [1=Yes, AnyOtherNumber=No]:  \"))\n",
    "    \n",
    "    axes = produce_axis(1)\n",
    "    \n",
    "    print(\"\\n>Supervising the plotting process:\")\n",
    "    print(\"----------------------------------------------------\")\n",
    "    for Z in range(min_Z,max_Z+1):\n",
    "        elmt_name = find_elmt_name(Z)\n",
    "        orbs_amount = len(e_orb_dist(Z)[0])\n",
    "        print(\">>ELEMENT [%s,Z=%d]:\"%(elmt_name,Z)) \n",
    "\n",
    "        fig_pr = axes[0][0]\n",
    "        fig_nk = axes[0][2]\n",
    "\n",
    "        ax_pr = axes[0][1]\n",
    "        ax_nk = axes[0][3]\n",
    "\n",
    "        start_time = time.time()\n",
    "        plot_pr(0,max_r,Z,ax_pr)\n",
    "        plot_nk(0,max_k,Z,ax_nk)\n",
    "\n",
    "        if Z==max_Z:   \n",
    "            ax_pr.set_xlabel(\"Radius r ($nm$)\")\n",
    "            ax_pr.set_ylabel(\"$4\\pi *p_r*r^2$\")\n",
    "            ax_pr.set_title(\"Electron Density Distribution\")\n",
    "            ax_pr.legend(bbox_to_anchor=(1.01, 1.), loc='upper left')\n",
    "            ax_pr.grid()\n",
    "\n",
    "            ax_nk.set_xlabel(\"Momentum vector norm k ($nm^{-1}$)\")\n",
    "            ax_nk.set_ylabel(\"$4\\pi *n_k*k^2$\")\n",
    "            ax_nk.set_title(\"Momentum Density Distribution\")\n",
    "            ax_nk.legend(bbox_to_anchor=(1.01, 1.), loc='upper left')\n",
    "            ax_nk.grid()\n",
    "            \n",
    "            # Saving the figures\n",
    "            if save==1:\n",
    "                fig_pr.savefig(\"Figpr.pdf\",dpi=200)\n",
    "                fig_nk.savefig(\"Fignk.pdf\",dpi=200)\n",
    "\n",
    "        end_time = time.time()\n",
    "        print(\"Plotting done !!!\")\n",
    "        print(\"Elapsed time %.3f sec\"%(end_time-start_time))\n",
    "        print(\"----------------------------------------------------\")            "
   ]
  },
  {
   "cell_type": "code",
   "execution_count": 32,
   "metadata": {},
   "outputs": [],
   "source": [
    "# Give a minimum Z and a maximum Z and return the plots\n",
    "# of the total information entropies\n",
    "def RHFentrp_plot(min_Z,max_Z):\n",
    "    Z_vals = []\n",
    "    Zlog_vals = []\n",
    "    Elmt_names = []\n",
    "    SR_vals = []\n",
    "    SK_vals = []\n",
    "    S_vals = []\n",
    "    results = PrettyTable()\n",
    "\n",
    "    print(\"SHANNON INFORMATION ENTROPIES\\nCalculations and Plots\\n\")\n",
    "    save = int(input(\"Would you like to save the plots? [1=Yes, AnyOtherNumber=No]:  \"))\n",
    "    \n",
    "    print(\"\\n\\nCalculations\\n\")\n",
    "    for Z in range(min_Z,max_Z+1):\n",
    "        Z_vals.append(Z)\n",
    "        Zlog_vals.append(np.log(Z))\n",
    "        elmt_name = find_elmt_name(Z)\n",
    "        Elmt_names.append(elmt_name)\n",
    "        e_dist = e_orb_dist(Z)[0]\n",
    "        orbs_occup = e_orb_dist(Z)[1] \n",
    "        orbs_amount = len(e_dist)\n",
    "        print(\"========================================================================\")\n",
    "        print(\">ELEMENT: [%s,Z=%d]\"%(elmt_name,Z))\n",
    "        print(\"--------------------------------------------------------------\")\n",
    "        print(\">>Shannon Information Entropy (position-space)\")\n",
    "        print(\"--------------------------------------------------------------\")\n",
    "        start_time = time.time()\n",
    "        SR = SR_tot(r,Z)\n",
    "        end_time = time.time()\n",
    "        SR_vals.append(SR)\n",
    "        print(\"SR_%s = %.10f\"%(elmt_name,SR))\n",
    "        print(\"Calculation time: %.3f sec\"%(end_time-start_time))\n",
    "        print(\"--------------------------------------------------------------\")\n",
    "        print(\">>Shannon Information Entropy (momentum-space)\")\n",
    "        print(\"--------------------------------------------------------------\")\n",
    "        start_time = time.time()\n",
    "        SK = SK_tot(k,Z)\n",
    "        end_time = time.time()\n",
    "        SK_vals.append(SK)\n",
    "        print(\"SK_%s = %.10f\"%(elmt_name,SK))\n",
    "        print(\"Calculation time: %.3f sec\"%(end_time-start_time))\n",
    "        print(\"--------------------------------------------------------------\")\n",
    "        print(\">>Total Shannon Information Entropy\")\n",
    "        print(\"--------------------------------------------------------------\")\n",
    "        S = SR+SK\n",
    "        S_vals.append(S)\n",
    "        print(\"S_%s = SR_%s + SK_%s = %.10f\"%(elmt_name,elmt_name,elmt_name,S))\n",
    "        print(\"========================================================================\")\n",
    "        for i in range(0,4):\n",
    "                print(\" \")\n",
    "\n",
    "    print(\"Summary\\n\")\n",
    "    results.add_column(\"Element\",Elmt_names)\n",
    "    results.add_column(\"Z\",Z_vals)\n",
    "    results.add_column(\"ln(Z)\",Zlog_vals)\n",
    "    results.add_column(\"SR\",SR_vals)\n",
    "    results.add_column(\"SK\",SK_vals)\n",
    "    results.add_column(\"S = SR + SK\",S_vals)\n",
    "    print(results)\n",
    "\n",
    "    # Brief analysis of the total information entropy\n",
    "    print(\"\\n\\nAnalysis\\n\") \n",
    "    def S_fit(x,b0,b1):\n",
    "         return b0+b1*x\n",
    "    m = len(Z_vals)\n",
    "    S_fitval = []\n",
    "    S_fitlogval = []\n",
    "    print(\"========================================================================\")\n",
    "    print(\">>Linear regression investigation: S - Z\")\n",
    "    print(\"--------------------------------------------------------------\")\n",
    "    coeffs_SZ = np.polyfit(Z_vals,S_vals,1) # using the polyfit function to obtain the coefficients of the regression\n",
    "    b0_SZ = coeffs_SZ[1]\n",
    "    b1_SZ = coeffs_SZ[0]\n",
    "    for i in range(0,m):\n",
    "         S_fitval.append(S_fit(Z_vals[i],b0_SZ,b1_SZ))\n",
    "    print(\"Form: S = b0 + b1*Z\")\n",
    "    print(\"b0 = %.3e\"%b0_SZ)\n",
    "    print(\"b1 = %.3e\"%b1_SZ)\n",
    "\n",
    "    print(\"--------------------------------------------------------------\")\n",
    "    print(\">>Linear regression investigation: S - ln(Z)\")\n",
    "    print(\"--------------------------------------------------------------\")\n",
    "    coeffs_SZlog = np.polyfit(Zlog_vals,S_vals,1) # using the polyfit function to obtain the coefficients of the regression\n",
    "    b0_SZlog = coeffs_SZlog[1]\n",
    "    b1_SZlog = coeffs_SZlog[0]\n",
    "    for i in range(0,m):\n",
    "         S_fitlogval.append(S_fit(Zlog_vals[i],b0_SZlog,b1_SZlog))\n",
    "    print(\"Form: S = b0 + b1*ln(Z)\")\n",
    "    print(\"b0 = %.3e\"%b0_SZlog)\n",
    "    print(\"b1 = %.3e\"%b1_SZlog)\n",
    "    print(\"========================================================================\\n\\n\")\n",
    "\n",
    "\n",
    "\n",
    "    print(\"Graphs\\n\")\n",
    "    fig_SKR,ax_SKR = plt.subplots(2,1)\n",
    "    fig_Stot,ax_Stot = plt.subplots(2,1)\n",
    "    \n",
    "    ax_SR = ax_SKR[0]\n",
    "    ax_SR.plot(Z_vals,SR_vals,\"o-\",ms=4,label=\"a) $S_r$\")\n",
    "    ax_SR.set_xlabel(\"Z\")\n",
    "    ax_SR.set_ylabel(\"$S_r$\")\n",
    "    ax_SR.legend()\n",
    "    ax_SR.grid()\n",
    "    \n",
    "    ax_SK = ax_SKR[1]\n",
    "    ax_SK.plot(Z_vals,SK_vals,\"o-\",ms=4,label=\"b) $S_k$\")\n",
    "    ax_SK.set_xlabel(\"Z\")\n",
    "    ax_SK.set_ylabel(\"$S_k$\")\n",
    "    ax_SK.legend()\n",
    "    ax_SK.grid()\n",
    "\n",
    "    ax_S = ax_Stot[0]\n",
    "    ax_S.plot(Z_vals,S_vals,\"o\",ms=3,label=\"a) $S$\")\n",
    "    ax_S.plot(Z_vals,S_fitval,\"-\",lw=1,label=\"S = %.3e + %.3e Z\"%(b0_SZ,b1_SZ))\n",
    "    ax_S.set_xlabel(\"Z\")\n",
    "    ax_S.set_ylabel(\"$S = S_r + S_k$\")\n",
    "    ax_S.legend()\n",
    "    ax_S.grid()\n",
    "\n",
    "    ax_Slog = ax_Stot[1]\n",
    "    ax_Slog.plot(Zlog_vals,S_vals,\"o\",ms=3,label=\"b) $S$\")\n",
    "    ax_Slog.plot(Zlog_vals,S_fitlogval,\"-\",lw=1,label=\"S = %.3e + %.3e ln(Z)\"%(b0_SZlog,b1_SZlog))\n",
    "    ax_Slog.set_xlabel(\"ln(Z)\")\n",
    "    ax_Slog.set_ylabel(\"$S = S_r + S_k$\")\n",
    "    ax_Slog.legend()\n",
    "    ax_Slog.grid()\n",
    "\n",
    "    fig_SKR.set_constrained_layout(\"constrained\")\n",
    "    fig_Stot.set_constrained_layout(\"constrained\")\n",
    "    # Saving the figures\n",
    "    if save == 1:\n",
    "         fig_SKR.savefig(\"FigSKR.pdf\",dpi=200)\n",
    "         fig_Stot.savefig(\"FigStot.pdf\",dpi=200)                        "
   ]
  },
  {
   "cell_type": "markdown",
   "metadata": {},
   "source": [
    "## **2. Results**"
   ]
  },
  {
   "cell_type": "markdown",
   "metadata": {},
   "source": [
    "Below we present the results of our study. Follow the steps given:\n",
    "\n",
    "1. Remove the # symbol and run the functions\n",
    "2. During the operation of plotting functions, a question to the user will pop-up<br>\n",
    "for saving the plot in pdf format. If the option **to save** is chosen the algorithm<br>\n",
    "will save the plot with the same title every time it runs a certain function. Therefore<br>\n",
    "the old file will be overwritten by the new one. "
   ]
  },
  {
   "cell_type": "markdown",
   "metadata": {},
   "source": [
    "**Expressions of the atomic orbitals $R_{nl}(r)$ and $\\tilde{R}_{nl}(k)$**"
   ]
  },
  {
   "cell_type": "code",
   "execution_count": 33,
   "metadata": {},
   "outputs": [],
   "source": [
    "#RHFwf_form(2,10)"
   ]
  },
  {
   "cell_type": "markdown",
   "metadata": {},
   "source": [
    "**Plots of the atomic orbitals $R_{nl}(r)$ and $\\tilde{R}_{nl}(k)$**"
   ]
  },
  {
   "cell_type": "code",
   "execution_count": 34,
   "metadata": {},
   "outputs": [],
   "source": [
    "r_max = [3,9,7] # maximum r-axis range for 1s,2s,2p orbitals plots in position space \n",
    "k_max = [25,4,8] # maximum k-axis range for 1s,2s,2p orbitals plots in momenutm space \n",
    "#RHFwf_plot(2,10,r_max,k_max)"
   ]
  },
  {
   "cell_type": "markdown",
   "metadata": {},
   "source": [
    "**Expressions of the density distributions $ρ(r)$ and $n(k)$ and the local Shannon information entropies $S_r^{loc}(r)$ and $S_k^{loc}(k)$**"
   ]
  },
  {
   "cell_type": "code",
   "execution_count": 35,
   "metadata": {},
   "outputs": [],
   "source": [
    "#RHFentrp_form(2,10)"
   ]
  },
  {
   "cell_type": "markdown",
   "metadata": {},
   "source": [
    "**Plots of the density distributions $ρ(r)$ and $n(k)$ for the elements He-B (Z: 2-5)**"
   ]
  },
  {
   "cell_type": "code",
   "execution_count": 36,
   "metadata": {},
   "outputs": [],
   "source": [
    "r_max = 8 # maximum r-axis range for electron density distribution in position space\n",
    "k_max = 10 # maximum k-axis range for momentum density distribution in momentum space\n",
    "#RHFdens_plot(2,5,r_max,k_max)"
   ]
  },
  {
   "cell_type": "markdown",
   "metadata": {},
   "source": [
    "**Plots of the density distributions $ρ(r)$ and $n(k)$ for the elements C-Ne (Z: 6-10)**"
   ]
  },
  {
   "cell_type": "code",
   "execution_count": 37,
   "metadata": {},
   "outputs": [],
   "source": [
    "r_max = 5 # maximum r-axis range for electron density distribution in position space\n",
    "k_max = 11 # maximum k-axis range for momentum density distribution in momentum space\n",
    "#RHFdens_plot(6,10,r_max,k_max)"
   ]
  },
  {
   "cell_type": "markdown",
   "metadata": {},
   "source": [
    "**Calculations and plots of the total Shannon information entropy in position and momentum space**"
   ]
  },
  {
   "cell_type": "code",
   "execution_count": 38,
   "metadata": {},
   "outputs": [],
   "source": [
    "#RHFentrp_plot(2,10)"
   ]
  },
  {
   "cell_type": "code",
   "execution_count": null,
   "metadata": {},
   "outputs": [],
   "source": []
  }
 ],
 "metadata": {
  "kernelspec": {
   "display_name": "Python 3 (ipykernel)",
   "language": "python",
   "name": "python3"
  },
  "language_info": {
   "codemirror_mode": {
    "name": "ipython",
    "version": 3
   },
   "file_extension": ".py",
   "mimetype": "text/x-python",
   "name": "python",
   "nbconvert_exporter": "python",
   "pygments_lexer": "ipython3",
   "version": "3.11.7"
  }
 },
 "nbformat": 4,
 "nbformat_minor": 4
}
