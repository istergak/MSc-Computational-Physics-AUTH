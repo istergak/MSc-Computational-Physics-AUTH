{
 "cells": [
  {
   "cell_type": "markdown",
   "id": "17df23da",
   "metadata": {},
   "source": [
    "**MSc Computational Physics AUTH**<br>\n",
    "**Mandatory Entrance Exam**<br>\n",
    "**Academic Year: 2025-2026**<br>\n",
    "\n",
    "# Python solutions\n",
    "\n",
    "**Python version 3.11.6**"
   ]
  },
  {
   "cell_type": "markdown",
   "id": "2718fbad",
   "metadata": {},
   "source": [
    "## QUESTION 1\n",
    "\n",
    "Create a programm, where two real numbers are appended as values to the variables a and b. The programm then should calculate and print the value of the expression $(a+b)^2$."
   ]
  },
  {
   "cell_type": "code",
   "execution_count": 1,
   "id": "9cd70a76",
   "metadata": {},
   "outputs": [
    {
     "name": "stdout",
     "output_type": "stream",
     "text": [
      "The value of a is: 2.45\n",
      "The value of b is: 7.32\n",
      "The result (a+b)^2 is: 95.4529\n"
     ]
    }
   ],
   "source": [
    "# Defining two variables a,b and appending real values to them\n",
    "a=2.45\n",
    "b=7.32\n",
    "\n",
    "# Printing the values of a and b variables (OPTIONAL)\n",
    "print(\"The value of a is: %.2f\"%a)\n",
    "print(\"The value of b is: %.2f\"%b)\n",
    "\n",
    "# Calculating the value of the result\n",
    "res = (a+b)*(a+b)\n",
    "\n",
    "# Printing the result with 4 decimal points\n",
    "print(\"The result (a+b)^2 is: %.4f\"%res)"
   ]
  },
  {
   "cell_type": "markdown",
   "id": "dfd703c0",
   "metadata": {},
   "source": [
    "## QUESTION 2\n",
    "\n",
    "Create a programm, where two numbers are appended as values to the variables a and b. The programm then should switch the values: a should take the value of b and b the value of a."
   ]
  },
  {
   "cell_type": "code",
   "execution_count": 2,
   "id": "8c565dd7",
   "metadata": {},
   "outputs": [
    {
     "name": "stdout",
     "output_type": "stream",
     "text": [
      "BEFORE SWITCH:\n",
      "Value of a: 1\n",
      "Value of b: 20\n",
      "\n",
      "AFTER SWITCH:\n",
      "Value of a: 20\n",
      "Value of b: 1\n",
      "\n"
     ]
    }
   ],
   "source": [
    "# Defining two variables a,b and appending integer values to them\n",
    "a=1\n",
    "b=20\n",
    "\n",
    "# Printing the values of a and b before the switch\n",
    "print(\"BEFORE SWITCH:\")\n",
    "print(\"Value of a: %d\"%a)\n",
    "print(\"Value of b: %d\\n\"%b)\n",
    "\n",
    "# Defining a help variable for switch and appending the value of a to it\n",
    "temp=a\n",
    "\n",
    "# SWITCH OF VALUES\n",
    "# Appending the value of b to a\n",
    "a=b\n",
    "\n",
    "# Appending the value of temp variable to b\n",
    "b=temp\n",
    "\n",
    "# Printing the values of a and b before the switch\n",
    "print(\"AFTER SWITCH:\")\n",
    "print(\"Value of a: %d\"%a)\n",
    "print(\"Value of b: %d\\n\"%b)"
   ]
  },
  {
   "cell_type": "markdown",
   "id": "34cf3ba2",
   "metadata": {},
   "source": [
    "## QUESTION 3\n",
    "\n",
    "Create a programm, which reads from the keybord a positive integer number. The programm should then calculate and print the value of the factorial of this number $(n!=1*2*3*...*n)$."
   ]
  },
  {
   "cell_type": "code",
   "execution_count": 6,
   "id": "7c4eb9f3",
   "metadata": {},
   "outputs": [
    {
     "name": "stdout",
     "output_type": "stream",
     "text": [
      "The factorial 5! is: 120\n"
     ]
    }
   ],
   "source": [
    "\n",
    "# Asking the user to give a value to variable n\n",
    "n = int(input(\"Give a positive integer number n: \"))\n",
    "   \n",
    "\n",
    "# Checking if the given value is a positive integer\n",
    "while n<=0:\n",
    "    n = int(input(\"Invalid input. Please give a positive integer number n: \"))\n",
    "\n",
    "# Defining a help variable for the factorial and initializing it with value 1\n",
    "n_fact=1; \n",
    "\n",
    "\n",
    "# Calculating the factorial of number n\n",
    "for i in range(1,n+1):\n",
    "    n_fact = n_fact*i\n",
    "\n",
    "# Printing the calculated factorial of number n\n",
    "print(\"The factorial %d! is: %d\"%(n,n_fact))"
   ]
  },
  {
   "cell_type": "markdown",
   "id": "0ff27012",
   "metadata": {},
   "source": [
    "## QUESTION 4\n",
    "\n",
    "Create a programm, which reads from the keybord a positive integer number in the interval $[2,1000]$ and prints if the number is a prime number."
   ]
  },
  {
   "cell_type": "code",
   "execution_count": 7,
   "id": "83d8706f",
   "metadata": {},
   "outputs": [
    {
     "name": "stdout",
     "output_type": "stream",
     "text": [
      "Found division by 3 besides 15 and 1\n",
      "Number 15 IS NOT a prime number\n"
     ]
    }
   ],
   "source": [
    "# Asking the user to give a value to variable n\n",
    "n=int(input(\"Give a positive integer number n in the interval [2,1000]: \"))\n",
    "\n",
    "# Checking if the given value is a positive integer in the interval [2,1000]\n",
    "while n<2:\n",
    "    n=int(input(\"Invalid input. Please give a positive integer number n in the interval [2,1000]: \"))\n",
    "\n",
    "# Determining if the given number n is a prime number\n",
    "# CASE 1: n=2, so n IS a prime number\n",
    "if n==2:\n",
    "    print(\"Number %d IS a prime number\"%n)\n",
    "else:\n",
    "    for i in range(2,n+1):\n",
    "        mod=n%i # getting the modulo of the (integer) division n/i\n",
    "\n",
    "        # CASE 2: n>2, i<n and mod=0 -> n is divisble by at least one number besides itself and 1 ===> n IS NOT a prime number\n",
    "        if i<n and mod==0:\n",
    "            print(\"Found division by %d besides %d and 1\"%(i,n))\n",
    "            print(\"Number %d IS NOT a prime number\"%n)\n",
    "            break\n",
    "\n",
    "        # CASE 3: n>2 and i=n -> i has reached n ===> n has been found indivisible besides itself and 1 ===> n IS a prime number\n",
    "        if i==n:\n",
    "            print(\"Number %d IS a prime number\"%n)\n"
   ]
  },
  {
   "cell_type": "markdown",
   "id": "6d4ab4b1",
   "metadata": {},
   "source": [
    "## QUESTION 5\n",
    "\n",
    "In order to find the root of a function $f(x)$ using the Newton-Raphson method we execute the following iterative process\n",
    "\n",
    "$$\\begin{matrix} x_{k+1} = x_k - \\frac{f(x_k)}{f'(x_k)}, & k=1,2,3,..., \\end{matrix}$$\n",
    "\n",
    "where $f^{'}$ is the derivative of $f$. Create a programm, which finds the root of the function $f(x) = x^3 + x - 3$, starting the iterative process with the value $x_0=1.0$ and terminating the process when $|x_{k+1} - x_k| < 10^{-8}$. "
   ]
  },
  {
   "cell_type": "code",
   "execution_count": 5,
   "id": "3841681c",
   "metadata": {},
   "outputs": [
    {
     "name": "stdout",
     "output_type": "stream",
     "text": [
      "ESTIMATION of the root of f(x) = x^3 + x - 3:\n",
      "===============================================================\n",
      "x_0=1.000000000\n",
      "x_1=1.250000000\n",
      "x_2=1.214285714\n",
      "x_3=1.213412176\n",
      "x_4=1.213411663\n",
      "x_5=1.213411663\n",
      "===============================================================\n",
      "\n",
      "Terminating condition |x_{k+1} - x_k| < 10^(-8) found TRUE !!!\n",
      "The root has been found approximately equal to 1.213411663 after 5 iterations !!!\n"
     ]
    }
   ],
   "source": [
    "# Defining the initial estimation x_0\n",
    "x_0 = 1.0; \n",
    "\n",
    "# Defining the maximum number of iterations\n",
    "i_max=100; # expecting the Newton-Rapshon process to terminate under 100 iterations\n",
    "\n",
    "# Printing the process evolution (OPTIONAL)\n",
    "print(\"ESTIMATION of the root of f(x) = x^3 + x - 3:\")\n",
    "print(\"===============================================================\")\n",
    "    \n",
    "# Printing the initial estimation\n",
    "x_k = x_0\n",
    "print(\"x_0=%.9f\"%x_k)\n",
    "\n",
    "# Implementing the iterative Newton-Rapshon process\n",
    "for i in range(1,i_max+1):\n",
    "    x_kp1 = x_k - (x_k**3 + x_k - 3)/(3*x_k**2 + 1) # f'(x) = 3x^2 + 1\n",
    "\n",
    "    # Printing the new estimation\n",
    "    print(\"x_%d=%.9f\"%(i,x_kp1))\n",
    "\n",
    "    # Calculating the error |x_{k+1} - x_k|\n",
    "    err = abs(x_kp1 - x_k)\n",
    "    if err==0:\n",
    "        print(\"===============================================================\")\n",
    "        print(\"The exact root has been found equal to %.9f after %d iterations !!!\"%(x_kp1, i))\n",
    "        break\n",
    "\n",
    "    # Checking if the terminating condition is TRUE\n",
    "    if err<10e-8:\n",
    "        print(\"===============================================================\\n\")\n",
    "        print(\"Terminating condition |x_{k+1} - x_k| < 10^(-8) found TRUE !!!\")\n",
    "        print(\"The root has been found approximately equal to %.9f after %d iterations !!!\"%(x_kp1, i))\n",
    "        break\n",
    "\n",
    "    # Updating the value of x_k\n",
    "    x_k = x_kp1"
   ]
  },
  {
   "cell_type": "code",
   "execution_count": null,
   "id": "c466861c",
   "metadata": {},
   "outputs": [],
   "source": []
  }
 ],
 "metadata": {
  "kernelspec": {
   "display_name": "Python 3",
   "language": "python",
   "name": "python3"
  },
  "language_info": {
   "codemirror_mode": {
    "name": "ipython",
    "version": 3
   },
   "file_extension": ".py",
   "mimetype": "text/x-python",
   "name": "python",
   "nbconvert_exporter": "python",
   "pygments_lexer": "ipython3",
   "version": "3.11.6"
  }
 },
 "nbformat": 4,
 "nbformat_minor": 5
}
